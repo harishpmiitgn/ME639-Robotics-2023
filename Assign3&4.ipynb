{
  "nbformat": 4,
  "nbformat_minor": 0,
  "metadata": {
    "colab": {
      "provenance": []
    },
    "kernelspec": {
      "name": "python3",
      "display_name": "Python 3"
    },
    "language_info": {
      "name": "python"
    }
  },
  "cells": [
    {
      "cell_type": "markdown",
      "source": [
        "##Question 3"
      ],
      "metadata": {
        "id": "DpgItwzEv79N"
      }
    },
    {
      "cell_type": "code",
      "execution_count": 1,
      "metadata": {
        "id": "vhr6z7oGvkPx"
      },
      "outputs": [],
      "source": [
        "import numpy as np\n",
        "\n",
        "\"\"\"\n",
        "Calculate the forward kinematics of a robotic manipulator.\n",
        "\n",
        "Args:\n",
        "- dh_params: List of DH parameters for each link in the format [theta, d, a, alpha].\n",
        "- joint_types: List of joint types ('R' for revolute, 'P' for prismatic).\n",
        "\n",
        "Returns:\n",
        "- T: The transformation matrix representing the end-effector position.\n",
        "\"\"\"\n",
        "\n",
        "def forward_kinematics(dh_params, joint_types):\n",
        "    T = np.identity(4)  # Initialize transformation matrix\n",
        "\n",
        "    for i in range(len(dh_params)):\n",
        "        theta, d, a, alpha = dh_params[i]\n",
        "        if joint_types[i] == 'R':  # Revolute joint\n",
        "            A_i = np.array([[np.cos(theta), -np.sin(theta) * np.cos(alpha), np.sin(theta) * np.sin(alpha), a * np.cos(theta)],\n",
        "                            [np.sin(theta), np.cos(theta) * np.cos(alpha), -np.cos(theta) * np.sin(alpha), a * np.sin(theta)],\n",
        "                            [0, np.sin(alpha), np.cos(alpha), d],\n",
        "                            [0, 0, 0, 1]])\n",
        "        elif joint_types[i] == 'P':  # Prismatic joint\n",
        "            A_i = np.array([[1, 0, 0, a],\n",
        "                            [0, 1, 0, d],\n",
        "                            [0, 0, 1, 0],\n",
        "                            [0, 0, 0, 1]])\n",
        "        else:\n",
        "            raise ValueError(\"Invalid joint type. Use 'R' for revolute or 'P' for prismatic.\")\n",
        "\n",
        "        T = T.dot(A_i)\n",
        "\n",
        "    return T\n",
        "\n",
        "\"\"\"\n",
        "Calculate the manipulator Jacobian for a robotic manipulator.\n",
        "\n",
        "Args:\n",
        "- dh_params: List of DH parameters for each link in the format [theta, d, a, alpha].\n",
        "- joint_types: List of joint types ('R' for revolute, 'P' for prismatic).\n",
        "\n",
        "Returns:\n",
        "- J: The manipulator Jacobian matrix.\n",
        "\"\"\"\n",
        "\n",
        "def manipulator_jacobian(dh_params, joint_types):\n",
        "    n = len(dh_params)  # Number of joints\n",
        "    J = np.zeros((6, n))  # Initialize Jacobian matrix\n",
        "\n",
        "    T = forward_kinematics(dh_params, joint_types)\n",
        "\n",
        "    for i in range(n):\n",
        "        Z_i = T[:3, 2]\n",
        "        P_i = T[:3, 3]\n",
        "        if joint_types[i] == 'R':  # Revolute joint\n",
        "            J[:, i] = np.concatenate((np.cross(Z_i, (P_i - T[:3, 3])), Z_i))\n",
        "        elif joint_types[i] == 'P':  # Prismatic joint\n",
        "            J[:, i] = np.concatenate((Z_i, np.zeros(3)))\n",
        "\n",
        "        # Update transformation matrix for the next joint\n",
        "        theta, d, a, alpha = dh_params[i]\n",
        "        if joint_types[i] == 'R':\n",
        "            delta_theta = theta\n",
        "        elif joint_types[i] == 'P':\n",
        "            delta_theta = 0\n",
        "        A_i = np.array([[np.cos(delta_theta), -np.sin(delta_theta) * np.cos(alpha), np.sin(delta_theta) * np.sin(alpha), a * np.cos(delta_theta)],\n",
        "                        [np.sin(delta_theta), np.cos(delta_theta) * np.cos(alpha), -np.cos(delta_theta) * np.sin(alpha), a * np.sin(delta_theta)],\n",
        "                        [0, np.sin(alpha), np.cos(alpha), d],\n",
        "                        [0, 0, 0, 1]])\n",
        "        T = T.dot(A_i)\n",
        "\n",
        "    return J\n",
        "\n",
        "\n",
        "\"\"\"\n",
        "Calculate the end-effector velocity for a robotic manipulator.\n",
        "\n",
        "Args:\n",
        "- dh_params: List of DH parameters for each link in the format [theta, d, a, alpha].\n",
        "- joint_types: List of joint types ('R' for revolute, 'P' for prismatic).\n",
        "- joint_velocities: List of joint velocities (angular or linear, depending on joint type).\n",
        "\n",
        "Returns:\n",
        "- ee_velocity: The end-effector velocity vector.\n",
        "\"\"\"\n",
        "\"\"\n",
        "def end_effector_velocity(dh_params, joint_types, joint_velocities):\n",
        "\n",
        "    J = manipulator_jacobian(dh_params, joint_types)\n",
        "    ee_velocity = J.dot(joint_velocities)\n",
        "\n",
        "    return ee_velocity"
      ]
    },
    {
      "cell_type": "markdown",
      "source": [
        "## Question 4\n"
      ],
      "metadata": {
        "id": "YvYRMFqlwBFD"
      }
    },
    {
      "cell_type": "code",
      "source": [
        "# Example usage for Stanford RRP configuration\n",
        "stanford_dh_params = [\n",
        "    [0, 0, 0.2, np.pi/2],\n",
        "    [0, 0, 0.15, 0],\n",
        "    [0, 0, 0, np.pi/2]\n",
        "]\n",
        "\n",
        "stanford_joint_types = ['R', 'R', 'P']\n",
        "\n",
        "joint_angles = [np.pi/4, np.pi/4, 0.5]  # Adjust as needed\n",
        "joint_velocities = [1.0, 1.0, 0.1]  # Adjust as needed\n",
        "\n",
        "# Calculate end-effector position\n",
        "T_stanford = forward_kinematics(stanford_dh_params, stanford_joint_types)\n",
        "ee_position_stanford = T_stanford[:3, 3]\n",
        "\n",
        "# Calculate manipulator Jacobian\n",
        "J_stanford = manipulator_jacobian(stanford_dh_params, stanford_joint_types)\n",
        "\n",
        "# Calculate end-effector velocity\n",
        "ee_velocity_stanford = end_effector_velocity(stanford_dh_params, stanford_joint_types, joint_velocities)\n",
        "\n",
        "# Print results\n",
        "print(\"Stanford RRP Configuration Results:\")\n",
        "print(f\"End-Effector Position: {ee_position_stanford}\")\n",
        "print(f\"Manipulator Jacobian:\\n{J_stanford}\")\n",
        "print(f\"End-Effector Velocity: {ee_velocity_stanford}\")"
      ],
      "metadata": {
        "colab": {
          "base_uri": "https://localhost:8080/"
        },
        "id": "VG17VpSRvsFw",
        "outputId": "39505064-38c8-4571-98e7-7e31b1c049b9"
      },
      "execution_count": 2,
      "outputs": [
        {
          "output_type": "stream",
          "name": "stdout",
          "text": [
            "Stanford RRP Configuration Results:\n",
            "End-Effector Position: [0.35 0.   0.  ]\n",
            "Manipulator Jacobian:\n",
            "[[-0.0000000e+00  0.0000000e+00  0.0000000e+00]\n",
            " [ 0.0000000e+00 -0.0000000e+00 -1.2246468e-16]\n",
            " [ 0.0000000e+00  0.0000000e+00 -1.0000000e+00]\n",
            " [ 0.0000000e+00  0.0000000e+00  0.0000000e+00]\n",
            " [-1.0000000e+00 -1.2246468e-16  0.0000000e+00]\n",
            " [ 6.1232340e-17 -1.0000000e+00  0.0000000e+00]]\n",
            "End-Effector Velocity: [ 0.0000000e+00 -1.2246468e-17 -1.0000000e-01  0.0000000e+00\n",
            " -1.0000000e+00 -1.0000000e+00]\n"
          ]
        }
      ]
    },
    {
      "cell_type": "code",
      "source": [
        "# Example usage for SCARA configuration\n",
        "scara_dh_params = [\n",
        "    [0, 0, 0.2, 0],\n",
        "    [0, 0, 0.15, 0],\n",
        "    [0, 0, 0, 0]\n",
        "]\n",
        "\n",
        "scara_joint_types = ['R', 'R', 'R']\n",
        "\n",
        "joint_angles = [np.pi/4, np.pi/4, np.pi/4]  # Adjust as needed\n",
        "joint_velocities = [1.0, 1.0, 1.0]  # Adjust as needed\n",
        "\n",
        "# Calculate end-effector position\n",
        "T_scara = forward_kinematics(scara_dh_params, scara_joint_types)\n",
        "ee_position_scara = T_scara[:3, 3]\n",
        "\n",
        "# Calculate manipulator Jacobian\n",
        "J_scara = manipulator_jacobian(scara_dh_params, scara_joint_types)\n",
        "\n",
        "# Calculate end-effector velocity\n",
        "ee_velocity_scara = end_effector_velocity(scara_dh_params, scara_joint_types, joint_velocities)\n",
        "\n",
        "# Print results\n",
        "print(\"\\nSCARA Configuration Results:\")\n",
        "print(f\"End-Effector Position: {ee_position_scara}\")\n",
        "print(f\"Manipulator Jacobian:\\n{J_scara}\")\n",
        "print(f\"End-Effector Velocity: {ee_velocity_scara}\")"
      ],
      "metadata": {
        "colab": {
          "base_uri": "https://localhost:8080/"
        },
        "id": "aWcNo80HvubX",
        "outputId": "d95f61bc-56ef-4216-a9df-eda04875c75e"
      },
      "execution_count": 3,
      "outputs": [
        {
          "output_type": "stream",
          "name": "stdout",
          "text": [
            "\n",
            "SCARA Configuration Results:\n",
            "End-Effector Position: [0.35 0.   0.  ]\n",
            "Manipulator Jacobian:\n",
            "[[0. 0. 0.]\n",
            " [0. 0. 0.]\n",
            " [0. 0. 0.]\n",
            " [0. 0. 0.]\n",
            " [0. 0. 0.]\n",
            " [1. 1. 1.]]\n",
            "End-Effector Velocity: [0. 0. 0. 0. 0. 3.]\n"
          ]
        }
      ]
    },
    {
      "cell_type": "code",
      "source": [],
      "metadata": {
        "id": "4bd841ROvx0G"
      },
      "execution_count": null,
      "outputs": []
    }
  ]
}