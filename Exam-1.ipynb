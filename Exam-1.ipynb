{
  "nbformat": 4,
  "nbformat_minor": 0,
  "metadata": {
    "colab": {
      "provenance": []
    },
    "kernelspec": {
      "name": "python3",
      "display_name": "Python 3"
    },
    "language_info": {
      "name": "python"
    }
  },
  "cells": [
    {
      "cell_type": "code",
      "source": [
        "#Question 5\n",
        "import numpy as np\n",
        "\n",
        "def ur5_jacobian(theta, d, a, alpha):\n",
        "    # Initialize the Jacobian matrix with zeros\n",
        "    J = np.zeros((6, 6))\n",
        "\n",
        "    # Forward kinematics (calculate transformation matrices)\n",
        "    T = np.eye(4)\n",
        "    for i in range(6):\n",
        "        Ti = np.array([\n",
        "            [np.cos(theta[i]), -np.sin(theta[i]) * np.cos(alpha[i]), np.sin(theta[i]) * np.sin(alpha[i]), a[i] * np.cos(theta[i])],\n",
        "            [np.sin(theta[i]), np.cos(theta[i]) * np.cos(alpha[i]), -np.cos(theta[i]) * np.sin(alpha[i]), a[i] * np.sin(theta[i])],\n",
        "            [0, np.sin(alpha[i]), np.cos(alpha[i]), d[i]],\n",
        "            [0, 0, 0, 1]\n",
        "        ])\n",
        "        T = np.dot(T, Ti)\n",
        "\n",
        "        # Calculate the position and orientation components of the transformation matrix\n",
        "        position = T[:3, 3]\n",
        "        orientation = T[:3, :3]\n",
        "\n",
        "        # Populate the Jacobian matrix with position and orientation derivatives\n",
        "        J[:3, i] = np.cross(np.array([0, 0, 1]), position)\n",
        "        J[3:, i] = orientation[:, 2]\n",
        "\n",
        "    return J\n"
      ],
      "metadata": {
        "id": "dkHMeurydKLK"
      },
      "execution_count": 2,
      "outputs": []
    },
    {
      "cell_type": "code",
      "source": [
        "# Question 6\n",
        "import numpy as np\n",
        "\n",
        "def ur5_jacobian(theta, d, a, alpha):\n",
        "    #(The Jacobian code provided earlier)\n",
        "\n",
        "# Calculate the Jacobian matrix\n",
        "Jacobian = ur5_jacobian(theta, d, a, alpha)\n",
        "\n",
        "# Joint velocities (random values for demonstration)\n",
        "joint_velocities = np.array([0.1, 0.2, 0.3, 0.4, 0.5, 0.6])\n",
        "\n",
        "# Calculate end effector velocities\n",
        "end_effector_velocities = np.dot(Jacobian, joint_velocities)\n",
        "\n",
        "# Separate linear and angular velocities\n",
        "linear_velocity = end_effector_velocities[:3]\n",
        "angular_velocity = end_effector_velocities[3:]\n",
        "\n",
        "# Print the results\n",
        "print(\"End Effector Linear Velocities (m/s):\", linear_velocity)\n",
        "print(\"End Effector Angular Velocities (rad/s):\", angular_velocity)\n"
      ],
      "metadata": {
        "id": "C8NbZFy5jVdM"
      },
      "execution_count": null,
      "outputs": []
    },
    {
      "cell_type": "code",
      "source": [],
      "metadata": {
        "id": "VdLrpfaBjc8J"
      },
      "execution_count": null,
      "outputs": []
    }
  ]
}