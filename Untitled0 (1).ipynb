{
  "nbformat": 4,
  "nbformat_minor": 0,
  "metadata": {
    "colab": {
      "provenance": []
    },
    "kernelspec": {
      "name": "python3",
      "display_name": "Python 3"
    },
    "language_info": {
      "name": "python"
    }
  },
  "cells": [
    {
      "cell_type": "code",
      "source": [
        "# Question 3\n",
        "import numpy as np\n",
        "\n",
        "def dh_transformation(alpha, a, d, theta):\n",
        "    \"\"\"\n",
        "    Calculate a DH transformation matrix.\n",
        "    \"\"\"\n",
        "    return np.array([\n",
        "        [np.cos(theta), -np.sin(theta) * np.cos(alpha), np.sin(theta) * np.sin(alpha), a * np.cos(theta)],\n",
        "        [np.sin(theta), np.cos(theta) * np.cos(alpha), -np.cos(theta) * np.sin(alpha), a * np.sin(theta)],\n",
        "        [0, np.sin(alpha), np.cos(alpha), d],\n",
        "        [0, 0, 0, 1]\n",
        "    ])\n",
        "\n",
        "def scara_forward_kinematics(theta1, theta2, d3):\n",
        "    \"\"\"\n",
        "    Calculate the end effector position for the RRP SCARA configuration.\n",
        "    \"\"\"\n",
        "    # DH parameters for the RRP SCARA configuration\n",
        "    dh_params = [\n",
        "        # alpha, a, d, theta\n",
        "        [0, 0, 0, theta1],\n",
        "        [0, 0, 0, theta2],\n",
        "        [0, 0, d3, 0]\n",
        "    ]\n",
        "\n",
        "    # Initialize transformation matrix\n",
        "    T = np.eye(4)\n",
        "\n",
        "    # Calculate the overall transformation\n",
        "    for alpha, a, d, theta in dh_params:\n",
        "        T_i = dh_transformation(alpha, a, d, theta)\n",
        "        T = np.dot(T, T_i)\n",
        "\n",
        "    # Extract the position vector from the transformation matrix\n",
        "    position = T[:3, 3]\n",
        "\n",
        "    return position\n",
        "\n",
        "\n",
        "theta1 = np.radians(30)  # Angle for joint 1 in radians\n",
        "theta2 = np.radians(-45)  # Angle for joint 2 in radians\n",
        "d3 = 0.5  # Extension of the prismatic joint\n",
        "\n",
        "# Calculate end effector position\n",
        "end_effector_position = scara_forward_kinematics(theta1, theta2, d3)\n",
        "print(\"End Effector Position:\", end_effector_position)\n"
      ],
      "metadata": {
        "colab": {
          "base_uri": "https://localhost:8080/"
        },
        "id": "HEXwyN8D7DHR",
        "outputId": "2b215d92-9172-477b-b9ed-9052629e6cb5"
      },
      "execution_count": 4,
      "outputs": [
        {
          "output_type": "stream",
          "name": "stdout",
          "text": [
            "End Effector Position: [0.  0.  0.5]\n"
          ]
        }
      ]
    },
    {
      "cell_type": "code",
      "source": [
        "# Question 4\n",
        "import numpy as np\n",
        "\n",
        "def dh_transformation(alpha, a, d, theta):\n",
        "    \"\"\"\n",
        "    Calculate a DH transformation matrix.\n",
        "    \"\"\"\n",
        "    return np.array([\n",
        "        [np.cos(theta), -np.sin(theta) * np.cos(alpha), np.sin(theta) * np.sin(alpha), a * np.cos(theta)],\n",
        "        [np.sin(theta), np.cos(theta) * np.cos(alpha), -np.cos(theta) * np.sin(alpha), a * np.sin(theta)],\n",
        "        [0, np.sin(alpha), np.cos(alpha), d],\n",
        "        [0, 0, 0, 1]\n",
        "    ])\n",
        "\n",
        "def stanford_rrp_forward_kinematics(theta1, theta2, d3):\n",
        "    \"\"\"\n",
        "    Calculate the end effector position for the Stanford-type RRP configuration.\n",
        "    \"\"\"\n",
        "    # DH parameters for the Stanford-type RRP configuration\n",
        "    dh_params = [\n",
        "        # alpha, a, d, theta\n",
        "        [np.pi/2, 0, 0, theta1],\n",
        "        [0, 0, 0, theta2],\n",
        "        [0, 0, d3, 0]\n",
        "    ]\n",
        "\n",
        "    # Initialize transformation matrix\n",
        "    T = np.eye(4)\n",
        "\n",
        "    # Calculate the overall transformation\n",
        "    for alpha, a, d, theta in dh_params:\n",
        "        T_i = dh_transformation(alpha, a, d, theta)\n",
        "        T = np.dot(T, T_i)\n",
        "\n",
        "    # Extract the position vector from the transformation matrix\n",
        "    position = T[:3, 3]\n",
        "\n",
        "    return position\n",
        "\n",
        "\n",
        "theta1 = np.radians(45)  # Angle for joint 1 in radians\n",
        "theta2 = np.radians(-30)  # Angle for joint 2 in radians\n",
        "d3 = 0.3  # Extension of the prismatic joint\n",
        "\n",
        "# Calculate end effector position\n",
        "end_effector_position = stanford_rrp_forward_kinematics(theta1, theta2, d3)\n",
        "print(\"End Effector Position:\", end_effector_position)\n"
      ],
      "metadata": {
        "colab": {
          "base_uri": "https://localhost:8080/"
        },
        "id": "fYym6NKH7hBA",
        "outputId": "50e95f3a-ae5b-477d-e322-670aa627c03d"
      },
      "execution_count": 5,
      "outputs": [
        {
          "output_type": "stream",
          "name": "stdout",
          "text": [
            "End Effector Position: [ 2.12132034e-01 -2.12132034e-01  1.83697020e-17]\n"
          ]
        }
      ]
    },
    {
      "cell_type": "code",
      "source": [
        "# Question 8\n",
        "import numpy as np\n",
        "\n",
        "def rrr_planar_jacobian(theta1, theta2, theta3, a1, a2, a3):\n",
        "    # Calculate the partial derivatives\n",
        "    dX_dtheta1 = -a1 * np.sin(theta1) - a2 * np.sin(theta1 + theta2) - a3 * np.sin(theta1 + theta2 + theta3)\n",
        "    dX_dtheta2 = -a2 * np.sin(theta1 + theta2) - a3 * np.sin(theta1 + theta2 + theta3)\n",
        "    dX_dtheta3 = -a3 * np.sin(theta1 + theta2 + theta3)\n",
        "\n",
        "    dY_dtheta1 = a1 * np.cos(theta1) + a2 * np.cos(theta1 + theta2) + a3 * np.cos(theta1 + theta2 + theta3)\n",
        "    dY_dtheta2 = a2 * np.cos(theta1 + theta2) + a3 * np.cos(theta1 + theta2 + theta3)\n",
        "    dY_dtheta3 = a3 * np.cos(theta1 + theta2 + theta3)\n",
        "\n",
        "    # Assemble the Jacobian matrix\n",
        "    jacobian = np.array([\n",
        "        [dX_dtheta1, dX_dtheta2, dX_dtheta3],\n",
        "        [dY_dtheta1, dY_dtheta2, dY_dtheta3]\n",
        "    ])\n",
        "\n",
        "    return jacobian\n",
        "\n",
        "\n",
        "theta1 = np.radians(30)  # Angle for joint 1 in radians\n",
        "theta2 = np.radians(45)  # Angle for joint 2 in radians\n",
        "theta3 = np.radians(60)  # Angle for joint 3 in radians\n",
        "a1 = 1.0  # Length of link 1\n",
        "a2 = 0.8  # Length of link 2\n",
        "a3 = 0.6  # Length of link 3\n",
        "\n",
        "# Calculate the Jacobian matrix for the given joint angles and link lengths\n",
        "jacobian_matrix = rrr_planar_jacobian(theta1, theta2, theta3, a1, a2, a3)\n",
        "\n",
        "# Print the Jacobian matrix\n",
        "print(\"Jacobian Matrix:\")\n",
        "print(jacobian_matrix)\n"
      ],
      "metadata": {
        "colab": {
          "base_uri": "https://localhost:8080/"
        },
        "id": "_ylb99qo8loZ",
        "outputId": "699686a6-8ead-4cfb-e4cd-0d2267878629"
      },
      "execution_count": 7,
      "outputs": [
        {
          "output_type": "stream",
          "name": "stdout",
          "text": [
            "Jacobian Matrix:\n",
            "[[-1.69700473 -1.19700473 -0.42426407]\n",
            " [ 0.64881657 -0.21720883 -0.42426407]]\n"
          ]
        }
      ]
    },
    {
      "cell_type": "code",
      "source": [
        "# Question 10\n",
        "import numpy as np\n",
        "\n",
        "def rrr_planar_jacobian(theta1, theta2, theta3, l1, l2, l3):\n",
        "    # Calculate the partial derivatives\n",
        "    dX_dtheta1 = -l1 * np.sin(theta1) - l2 * np.sin(theta1 + theta2) - l3 * np.sin(theta1 + theta2 + theta3)\n",
        "    dX_dtheta2 = -l2 * np.sin(theta1 + theta2) - l3 * np.sin(theta1 + theta2 + theta3)\n",
        "    dX_dtheta3 = -l3 * np.sin(theta1 + theta2 + theta3)\n",
        "\n",
        "    dY_dtheta1 = l1 * np.cos(theta1) + l2 * np.cos(theta1 + theta2) + l3 * np.cos(theta1 + theta2 + theta3)\n",
        "    dY_dtheta2 = l2 * np.cos(theta1 + theta2) + l3 * np.cos(theta1 + theta2 + theta3)\n",
        "    dY_dtheta3 = l3 * np.cos(theta1 + theta2 + theta3)\n",
        "\n",
        "    # Assemble the Jacobian matrix\n",
        "    jacobian = np.array([\n",
        "        [dX_dtheta1, dX_dtheta2, dX_dtheta3],\n",
        "        [dY_dtheta1, dY_dtheta2, dY_dtheta3]\n",
        "    ])\n",
        "\n",
        "    return jacobian\n",
        "\n",
        "\n",
        "theta1 = np.radians(30)  # Angle for joint 1 in radians\n",
        "theta2 = np.radians(45)  # Angle for joint 2 in radians\n",
        "theta3 = np.radians(60)  # Angle for joint 3 in radians\n",
        "l1 = 1.0  # Length of link 1\n",
        "l2 = 0.8  # Length of link 2\n",
        "l3 = 0.6  # Length of link 3\n",
        "\n",
        "# Calculate the Jacobian matrix for the given joint angles and link lengths\n",
        "jacobian_matrix = rrr_planar_jacobian(theta1, theta2, theta3, l1, l2, l3)\n",
        "\n",
        "# Print the Jacobian matrix\n",
        "print(\"Jacobian Matrix:\")\n",
        "print(jacobian_matrix)\n"
      ],
      "metadata": {
        "colab": {
          "base_uri": "https://localhost:8080/"
        },
        "id": "sqRUJUzS80xD",
        "outputId": "80f8a623-955c-4df0-9b86-5f314a0ce7bb"
      },
      "execution_count": 8,
      "outputs": [
        {
          "output_type": "stream",
          "name": "stdout",
          "text": [
            "Jacobian Matrix:\n",
            "[[-1.69700473 -1.19700473 -0.42426407]\n",
            " [ 0.64881657 -0.21720883 -0.42426407]]\n"
          ]
        }
      ]
    },
    {
      "cell_type": "markdown",
      "source": [],
      "metadata": {
        "id": "Qn6SbWS49ur4"
      }
    }
  ]
}