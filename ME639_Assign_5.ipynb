{
  "nbformat": 4,
  "nbformat_minor": 0,
  "metadata": {
    "colab": {
      "provenance": []
    },
    "kernelspec": {
      "name": "python3",
      "display_name": "Python 3"
    },
    "language_info": {
      "name": "python"
    }
  },
  "cells": [
    {
      "cell_type": "markdown",
      "source": [
        "# Asssignment 5\n",
        "\n",
        "Question 1\n",
        "\n",
        "Write a subroutine to solve for the inverse position kinematics for the\n",
        "Stanford manipulator using the discussion in Section 4.3.2 in the textbook.\n",
        "Plug in a few representative numerical values to compute the joint\n",
        "variables. Then confirm if you plug in these resulting joint variable answers\n",
        "with your earlier forward position kinematics code that you are indeed\n",
        "obtaining correct answers."
      ],
      "metadata": {
        "id": "E75FmtpfCd2B"
      }
    },
    {
      "cell_type": "code",
      "execution_count": 1,
      "metadata": {
        "colab": {
          "base_uri": "https://localhost:8080/"
        },
        "id": "kpEOiVpBCX3m",
        "outputId": "b0f3cb69-19f5-447b-cb98-e5dcb670fb78"
      },
      "outputs": [
        {
          "output_type": "stream",
          "name": "stdout",
          "text": [
            "Inverse Kinematics Solutions:\n",
            "Solution 1: θ1=0.7853981633974483, θ2=-1.2094292028881888, θ3=2.4188584057763776\n",
            "Solution 2: θ1=0.7853981633974483, θ2=1.2094292028881888, θ3=-2.4188584057763776\n"
          ]
        }
      ],
      "source": [
        "import math\n",
        "\n",
        "def stanford_inverse_kinematics(xc, yc, zc, d, a2, a3):\n",
        "    # Calculate θ1 using arctan\n",
        "    if xc == 0 and yc == 0:\n",
        "        # Singular configuration\n",
        "        return None\n",
        "    else:\n",
        "        theta1 = math.atan2(yc, xc)\n",
        "\n",
        "    # Calculate the distance from the origin to the wrist center\n",
        "    r = math.sqrt(xc**2 + yc**2)\n",
        "\n",
        "    # Calculate θ3 using the law of cosines\n",
        "    d3 = math.sqrt(r**2 + (zc - d)**2)\n",
        "    cos_theta3 = (r**2 + (zc - d)**2 - a2**2 - a3**2) / (2 * a2 * a3)\n",
        "\n",
        "    if abs(cos_theta3) > 1:\n",
        "        # Invalid position, no solution\n",
        "        return None\n",
        "\n",
        "    # Two possible solutions for θ3\n",
        "    theta3_1 = math.atan2(math.sqrt(1 - cos_theta3**2), cos_theta3)\n",
        "    theta3_2 = math.atan2(-math.sqrt(1 - cos_theta3**2), cos_theta3)\n",
        "\n",
        "    # Calculate θ2 using arctan and the known values\n",
        "    theta2_1 = math.atan2(zc - d, r) - math.atan2(a3 * math.sin(theta3_1), a2 + a3 * math.cos(theta3_1))\n",
        "    theta2_2 = math.atan2(zc - d, r) - math.atan2(a3 * math.sin(theta3_2), a2 + a3 * math.cos(theta3_2))\n",
        "\n",
        "    # Return both solutions\n",
        "    return [(theta1, theta2_1, theta3_1), (theta1, theta2_2, theta3_2)]\n",
        "\n",
        "# Example usage\n",
        "xc = 1\n",
        "yc = 1\n",
        "zc = 1\n",
        "d = 1\n",
        "a2 = 2\n",
        "a3 = 2\n",
        "\n",
        "solutions = stanford_inverse_kinematics(xc, yc, zc, d, a2, a3)\n",
        "if solutions:\n",
        "    print(\"Inverse Kinematics Solutions:\")\n",
        "    for i, solution in enumerate(solutions):\n",
        "        print(f\"Solution {i+1}: θ1={solution[0]}, θ2={solution[1]}, θ3={solution[2]}\")\n",
        "else:\n",
        "    print(\"No valid solutions for the given end-effector position.\")\n"
      ]
    },
    {
      "cell_type": "markdown",
      "source": [
        "Question 2\n",
        "\n",
        "Write a python subroutine to calculate the joint velocities using\n",
        "end-effector cartesian velocities (using the discussion in Section 5.4 in the\n",
        "textbook). Heads up: You don’t need to write the part about calculating\n",
        "joint accelerations."
      ],
      "metadata": {
        "id": "rDvyiGD6CsDy"
      }
    },
    {
      "cell_type": "code",
      "source": [
        "import numpy as np\n",
        "\n",
        "# Define the Jacobian matrix (6xN, where N is the number of joints)\n",
        "Jacobian = np.array([\n",
        "    [0.1, 0.2, 0.3],\n",
        "    [0.4, 0.5, 0.6],\n",
        "    [0.7, 0.8, 0.9],\n",
        "    [0.1, 0.2, 0.3],\n",
        "    [0.4, 0.5, 0.6],\n",
        "    [0.7, 0.8, 0.9]\n",
        "])\n",
        "\n",
        "# Define end-effector velocities (linear and angular)\n",
        "end_effector_velocities = np.array([0.1, 0.2, 0.3, 0.4, 0.5, 0.6])\n",
        "\n",
        "# Check if the Jacobian matrix is singular\n",
        "if np.linalg.matrix_rank(Jacobian) < min(Jacobian.shape):\n",
        "    print(\"Error: Jacobian matrix is singular; unable to calculate joint velocities.\")\n",
        "else:\n",
        "    # Calculate joint velocities using the pseudoinverse of the Jacobian\n",
        "    joint_velocities = np.linalg.pinv(Jacobian).dot(end_effector_velocities)\n",
        "\n",
        "    # Print the result\n",
        "    print(\"Joint Velocities:\", joint_velocities)\n"
      ],
      "metadata": {
        "colab": {
          "base_uri": "https://localhost:8080/"
        },
        "id": "hYcUWXYzCrWD",
        "outputId": "8345f3b8-e6d3-4b63-9b16-8a469f525690"
      },
      "execution_count": 3,
      "outputs": [
        {
          "output_type": "stream",
          "name": "stdout",
          "text": [
            "Error: Jacobian matrix is singular; unable to calculate joint velocities.\n"
          ]
        }
      ]
    },
    {
      "cell_type": "markdown",
      "source": [
        "Question 5\n",
        "\n",
        "Write a python subroutine for the inverse kinematics of the spherical wrist\n",
        "using the discussion in Section 4.4."
      ],
      "metadata": {
        "id": "5QkalAIVC6Di"
      }
    },
    {
      "cell_type": "code",
      "source": [
        "import numpy as np\n",
        "\n",
        "def spherical_wrist_inverse_kinematics(R):\n",
        "    # Extract the individual elements of the rotation matrix\n",
        "    r11, r12, r13 = R[0, 0], R[0, 1], R[0, 2]\n",
        "    r21, r22, r23 = R[1, 0], R[1, 1], R[1, 2]\n",
        "    r31, r32, r33 = R[2, 0], R[2, 1], R[2, 2]\n",
        "\n",
        "    # Calculate joint angles θ4, θ5, and θ6\n",
        "    theta_4 = np.arctan2(r32, -r12)\n",
        "    sin_theta_5 = np.sqrt(r13**2 + r23**2)\n",
        "    cos_theta_5 = r33\n",
        "    theta_5 = np.arctan2(sin_theta_5, cos_theta_5)\n",
        "    theta_6 = np.arctan2(-r31, r32)\n",
        "\n",
        "    return theta_4, theta_5, theta_6\n",
        "\n",
        "# Example usage\n",
        "# Define the rotation matrix R for the spherical wrist\n",
        "R = np.array([[0.866, -0.5, 0.0],\n",
        "              [0.5, 0.866, 0.0],\n",
        "              [0.0, 0.0, 1.0]])\n",
        "\n",
        "# Calculate the joint angles for the spherical wrist\n",
        "theta_4, theta_5, theta_6 = spherical_wrist_inverse_kinematics(R)\n",
        "print(\"Joint Angles (θ4, θ5, θ6):\", np.degrees([theta_4, theta_5, theta_6]))\n",
        "\n"
      ],
      "metadata": {
        "colab": {
          "base_uri": "https://localhost:8080/"
        },
        "id": "wCtZDLeRDAE6",
        "outputId": "bce6da22-4375-47d1-c6c4-6954ec621e0d"
      },
      "execution_count": 2,
      "outputs": [
        {
          "output_type": "stream",
          "name": "stdout",
          "text": [
            "Joint Angles (θ4, θ5, θ6): [ 0.  0. -0.]\n"
          ]
        }
      ]
    },
    {
      "cell_type": "code",
      "source": [],
      "metadata": {
        "id": "m8-lol4xD5Zf"
      },
      "execution_count": null,
      "outputs": []
    }
  ]
}