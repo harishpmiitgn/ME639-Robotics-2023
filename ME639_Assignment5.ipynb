{
  "nbformat": 4,
  "nbformat_minor": 0,
  "metadata": {
    "colab": {
      "provenance": []
    },
    "kernelspec": {
      "name": "python3",
      "display_name": "Python 3"
    },
    "language_info": {
      "name": "python"
    }
  },
  "cells": [
    {
      "cell_type": "markdown",
      "source": [
        "QUESTION 1 SOLUTION"
      ],
      "metadata": {
        "id": "hEoul45Rrkut"
      }
    },
    {
      "cell_type": "code",
      "execution_count": 2,
      "metadata": {
        "colab": {
          "base_uri": "https://localhost:8080/"
        },
        "id": "q5PQVlOWrih_",
        "outputId": "9dda5cd0-c067-48b4-9896-c570530c5bdd"
      },
      "outputs": [
        {
          "output_type": "stream",
          "name": "stdout",
          "text": [
            "(1.1071487177940904, 1.9913306620788616, 2.4494897427831783)\n"
          ]
        }
      ],
      "source": [
        "import numpy as np\n",
        "from typing import Tuple\n",
        "\n",
        "D1 = 1.0  # Constant for d1\n",
        "\n",
        "def inverse_kinematics(x: float, y: float, z: float) -> Tuple[float, float, float]:\n",
        "    theta1 = np.arctan2(y, x)\n",
        "\n",
        "    distance_xy = np.sqrt(x**2 + y**2)\n",
        "    distance_z = z - D1\n",
        "\n",
        "    theta2 = np.arctan2(distance_z, distance_xy) + np.pi/2\n",
        "    d3 = np.sqrt(distance_xy**2 + distance_z**2)\n",
        "\n",
        "    return theta1, theta2, d3\n",
        "\n",
        "# Example usage\n",
        "x, y, z = 1,2,2\n",
        "state = inverse_kinematics(x, y, z)\n",
        "print(state)\n"
      ]
    },
    {
      "cell_type": "markdown",
      "source": [
        "QUESTION 2 SOLUTION"
      ],
      "metadata": {
        "id": "ZLTT98bosRqF"
      }
    },
    {
      "cell_type": "code",
      "source": [
        "import numpy as np\n",
        "\n",
        "def dh_transform_matrix(theta, d, a, alpha):\n",
        "    cos_theta = np.cos(theta)\n",
        "    sin_theta = np.sin(theta)\n",
        "    cos_alpha = np.cos(alpha)\n",
        "    sin_alpha = np.sin(alpha)\n",
        "\n",
        "    transformation_matrix = np.array([\n",
        "        [cos_theta, -sin_theta * cos_alpha, sin_theta * sin_alpha, a * cos_theta],\n",
        "        [sin_theta, cos_theta * cos_alpha, -cos_theta * sin_alpha, a * sin_theta],\n",
        "        [0, sin_alpha, cos_alpha, d],\n",
        "        [0, 0, 0, 1]\n",
        "    ])\n",
        "\n",
        "    return transformation_matrix\n",
        "\n",
        "def end_effector_position(dh_params):\n",
        "    num_joints = len(dh_params)\n",
        "    end_effector_pose = np.identity(4)\n",
        "    for i in range(num_joints):\n",
        "        theta, d, a, alpha = dh_params[i]\n",
        "        transformation_i = dh_transform_matrix(theta, d, a, alpha)\n",
        "        end_effector_pose = np.dot(end_effector_pose, transformation_i)\n",
        "    return end_effector_pose[:3, 3]\n",
        "\n",
        "def manipulator_jacobian(dh_params, joint_types=None):\n",
        "    if joint_types is None:\n",
        "        joint_types = ['R'] * len(dh_params)\n",
        "\n",
        "    if len(dh_params) != len(joint_types):\n",
        "        raise ValueError(\"Number of DH parameters and joint types must be the same.\")\n",
        "\n",
        "    num_joints = len(dh_params)\n",
        "    end_effector_pose = np.identity(4)\n",
        "    jacobian = np.zeros((6, num_joints))\n",
        "\n",
        "    for i in range(num_joints):\n",
        "        theta, d, a, alpha = dh_params[i]\n",
        "        transformation_i = dh_transform_matrix(theta, d, a, alpha)\n",
        "        end_effector_pose = np.dot(end_effector_pose, transformation_i)\n",
        "\n",
        "        if joint_types[i] == 'R':  # Revolute joint\n",
        "            z_axis = end_effector_pose[:3, 2]\n",
        "            position_difference = end_effector_position(dh_params) - end_effector_pose[:3, 3]\n",
        "            jacobian[:3, i] = np.cross(z_axis, position_difference)\n",
        "            jacobian[3:, i] = z_axis\n",
        "        else:\n",
        "            z_axis = end_effector_pose[:3, 2]\n",
        "            jacobian[:3, i] = z_axis\n",
        "\n",
        "    return jacobian\n",
        "\n",
        "def joint_velocities(jacobian, end_effector_velocity):\n",
        "    if np.size(jacobian, 1) == len(end_effector_velocity):\n",
        "        joint_velocities = np.dot(np.linalg.pinv(jacobian), end_effector_velocity)\n",
        "        return joint_velocities\n",
        "    else:\n",
        "        return \"Error\"\n",
        "\n",
        "# Example usage: theta, d, a, alpha\n",
        "dh_parameters = [\n",
        "    [0, 1, 0, 0],\n",
        "    [-np.pi/2, 1, 0, -np.pi/2],\n",
        "    [-np.pi/2, 1, 0, -np.pi/2],\n",
        "    [0, 1, 0, 0]\n",
        "]\n",
        "\n",
        "joint_types = [\"P\", \"P\", \"P\", \"P\"]\n",
        "end_effector_velocity = [1, 1, 1, 1, 1, 1]\n",
        "\n",
        "jacobian = manipulator_jacobian(dh_parameters, joint_types)\n",
        "end_effector_pos = end_effector_position(dh_parameters)\n",
        "joint_velocities_result = joint_velocities(jacobian, end_effector_velocity)\n",
        "\n",
        "print(\"Manipulator Jacobian:\")\n",
        "print(jacobian)\n",
        "print(\"End-effector Position:\")\n",
        "print(end_effector_pos)\n",
        "print(\"End-effector Velocity:\")\n",
        "print(joint_velocities_result)\n"
      ],
      "metadata": {
        "colab": {
          "base_uri": "https://localhost:8080/"
        },
        "id": "tIVYZNnysUXx",
        "outputId": "a99ec419-f954-4850-c060-692195443588"
      },
      "execution_count": 5,
      "outputs": [
        {
          "output_type": "stream",
          "name": "stdout",
          "text": [
            "Manipulator Jacobian:\n",
            "[[ 0.0000000e+00  1.0000000e+00  1.2246468e-16  1.2246468e-16]\n",
            " [ 0.0000000e+00  6.1232340e-17 -1.0000000e+00 -1.0000000e+00]\n",
            " [ 1.0000000e+00  6.1232340e-17 -6.1232340e-17 -6.1232340e-17]\n",
            " [ 0.0000000e+00  0.0000000e+00  0.0000000e+00  0.0000000e+00]\n",
            " [ 0.0000000e+00  0.0000000e+00  0.0000000e+00  0.0000000e+00]\n",
            " [ 0.0000000e+00  0.0000000e+00  0.0000000e+00  0.0000000e+00]]\n",
            "End-effector Position:\n",
            "[ 1. -1.  2.]\n",
            "End-effector Velocity:\n",
            "Error\n"
          ]
        }
      ]
    },
    {
      "cell_type": "markdown",
      "source": [
        "QUESTION 5 SOLUTION"
      ],
      "metadata": {
        "id": "nWs1oXUltTr_"
      }
    },
    {
      "cell_type": "code",
      "source": [
        "import numpy as np\n",
        "\n",
        "def spherical_wrist_inverse_kinematics(r36):\n",
        "    if r36[0, 2] != 0 or r36[1, 2] != 0:\n",
        "        theta_5 = np.arctan2(-np.sqrt(1 - r36[2, 2]**2), r36[2, 2])\n",
        "        theta_4 = np.arctan2(-r36[1, 2], -r36[0, 2])\n",
        "        theta_6 = np.arctan2(-r36[2, 1], r36[2, 0])\n",
        "    else:\n",
        "        theta_4 = 0.\n",
        "        if r36[2, 2] > 0:\n",
        "            theta_5 = 0\n",
        "            theta_6 = 0  # Considering\n",
        "            theta_4 = np.arctan2(r36[1, 0], r36[0, 0])\n",
        "        else:\n",
        "            theta_5 = np.pi\n",
        "            theta_6 = 0  # Considering\n",
        "            theta_4 = -np.arctan2(-r36[0, 1], -r36[0, 0])\n",
        "\n",
        "    return np.array([theta_4, theta_5, theta_6])\n",
        "\n",
        "# Example usage:\n",
        "# Assuming r36 is the rotation matrix\n",
        "r36_example = np.array([[0.1, 0.2, 0.3],\n",
        "                        [0.4, 0.5, 0.6],\n",
        "                        [0.7, 0.8, 0.9]])\n",
        "\n",
        "joint_angles = spherical_wrist_inverse_kinematics(r36_example)\n",
        "print(\"Spherical Wrist Joint Angles:\")\n",
        "print(joint_angles)\n"
      ],
      "metadata": {
        "colab": {
          "base_uri": "https://localhost:8080/"
        },
        "id": "sCZAOUkgtXWc",
        "outputId": "253fb4b6-51aa-4961-8326-f8f1187264b4"
      },
      "execution_count": 6,
      "outputs": [
        {
          "output_type": "stream",
          "name": "stdout",
          "text": [
            "Spherical Wrist Joint Angles:\n",
            "[-2.03444394 -0.45102681 -0.85196633]\n"
          ]
        }
      ]
    }
  ]
}