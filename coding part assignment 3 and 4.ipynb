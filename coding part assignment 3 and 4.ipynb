{
  "nbformat": 4,
  "nbformat_minor": 0,
  "metadata": {
    "colab": {
      "provenance": []
    },
    "kernelspec": {
      "name": "python3",
      "display_name": "Python 3"
    },
    "language_info": {
      "name": "python"
    }
  },
  "cells": [
    {
      "cell_type": "markdown",
      "source": [],
      "metadata": {
        "id": "1PoODqhu-c3e"
      }
    },
    {
      "cell_type": "markdown",
      "source": [
        "Python Subroutine\n",
        "\n",
        "For Quesstion 3"
      ],
      "metadata": {
        "id": "PdH0BwdB-fli"
      }
    },
    {
      "cell_type": "code",
      "execution_count": null,
      "metadata": {
        "id": "dO1HiJY0-aZX"
      },
      "outputs": [],
      "source": [
        "import numpy as np\n",
        "\n",
        "def manipulator_jacobian(l1,l2,q1,q2):\n",
        " link_lengths = l1,l2\n",
        " joint_angles = q1,q2\n",
        "\n",
        " z1=z2=z3= np.array([[0],\n",
        "                     [0],\n",
        "                     [1]])\n",
        " o1 = np.array([[0],\n",
        "                [0],\n",
        "                [0]])\n",
        " o2 = np.array([[l1*np.cos(q1)],\n",
        "               [l1*np.sin(q1)],\n",
        "               [0]])\n",
        " o3 = np.array([[l1*np.cos(q1)+l2*np.cos(q1+q2)],\n",
        "               [l1*np.sin(q1)+l2*np.sin(q1+q2)],\n",
        "               [0]])\n",
        " O1 = o3 - o1\n",
        " O1 = O1.ravel()\n",
        " z1a = z1.ravel()\n",
        " Z1a = np.cross(z1a,O1)\n",
        " Z1b = Z1a.reshape(-1,1)\n",
        "\n",
        " O2 = o3 - o2\n",
        " O2 = O2.ravel()\n",
        " z2b = z2.ravel()\n",
        " Z2a = np.cross(z2b,O2)\n",
        " Z2b = Z2a.reshape(-1,1)\n",
        "\n",
        " J1 = np.vstack((Z1b,z1))\n",
        " J2 = np.vstack((Z2b,z2))\n",
        "\n",
        " dh_params = np.array([[2, 0, 0, np.pi/4],\n",
        "                       [3, 0, 0, np.pi/6]])\n",
        " # jacobian matrix\n",
        " J = np.hstack(([J1,J2]))\n",
        " J = manipulator_jacobian(2, dh_params)\n",
        "\n",
        " print(J)"
      ]
    },
    {
      "cell_type": "markdown",
      "source": [
        "Question 3\n",
        "\n",
        "(a) Manipulator jacobian"
      ],
      "metadata": {
        "id": "jCzHSot9-tO5"
      }
    },
    {
      "cell_type": "code",
      "source": [
        "import numpy as np\n",
        "\n",
        "def manipulator_jacobian(l1, l2, q1, q2):\n",
        "    # Define the DH parameters\n",
        "    dh_params = np.array([\n",
        "        [l1, 0, 0, q1],\n",
        "        [l2, 0, 0, q2]\n",
        "    ])\n",
        "\n",
        "    # Initialize the Jacobian matrix\n",
        "    J = np.zeros((6, 2))\n",
        "\n",
        "    # Calculate the Jacobian matrix using DH parameters\n",
        "    for i in range(2):\n",
        "        a, d, alpha, theta = dh_params[i]\n",
        "        z_i = np.array([0, 0, 1])\n",
        "        p_i = np.array([a * np.cos(theta), a * np.sin(theta), d])\n",
        "        o_i = np.cross(-z_i, p_i)\n",
        "\n",
        "        J[:3, i] = o_i\n",
        "        J[3:, i] = z_i\n",
        "\n",
        "    return J\n",
        "\n",
        "# Example usage\n",
        "l1 = 2\n",
        "l2 = 3\n",
        "q1 = np.pi / 4\n",
        "q2 = np.pi / 6\n",
        "\n",
        "Jacobian = manipulator_jacobian(l1, l2, q1, q2)\n",
        "print(\"Manipulator Jacobian:\")\n",
        "print(Jacobian)"
      ],
      "metadata": {
        "colab": {
          "base_uri": "https://localhost:8080/"
        },
        "id": "gd8viloP-rXk",
        "outputId": "c7a7d480-b879-4e52-c1d9-1e67edace3f8"
      },
      "execution_count": 5,
      "outputs": [
        {
          "output_type": "stream",
          "name": "stdout",
          "text": [
            "Manipulator Jacobian:\n",
            "[[ 1.41421356  1.5       ]\n",
            " [-1.41421356 -2.59807621]\n",
            " [ 0.          0.        ]\n",
            " [ 0.          0.        ]\n",
            " [ 0.          0.        ]\n",
            " [ 1.          1.        ]]\n"
          ]
        }
      ]
    },
    {
      "cell_type": "markdown",
      "source": [
        "Question 3\n",
        "\n",
        "(b) End effector position"
      ],
      "metadata": {
        "id": "L2muYbJq_Esb"
      }
    },
    {
      "cell_type": "code",
      "source": [
        "import numpy as np\n",
        "\n",
        "def manipulator_jacobian(l1, l2, q1, q2):\n",
        "    # Define the DH parameters\n",
        "    dh_params = np.array([\n",
        "        [l1, 0, 0, q1],\n",
        "        [l2, 0, 0, q2]\n",
        "    ])\n",
        "\n",
        "    # Initialize the Jacobian matrix\n",
        "    J = np.zeros((6, 2))\n",
        "\n",
        "    #Jacobian matrix using DH parameters\n",
        "    for i in range(2):\n",
        "        a, d, alpha, theta = dh_params[i]\n",
        "        z_i = np.array([0, 0, 1])\n",
        "        p_i = np.array([a * np.cos(theta), a * np.sin(theta), d])\n",
        "        o_i = np.cross(-z_i, p_i)\n",
        "\n",
        "        J[:3, i] = o_i\n",
        "        J[3:, i] = z_i\n",
        "\n",
        "    return J\n",
        "\n",
        "# Example usage\n",
        "l1 = 2\n",
        "l2 = 3\n",
        "q1 = np.pi / 4\n",
        "q2 = np.pi / 6\n",
        "\n",
        "#  Jacobian matrix\n",
        "Jacobian = manipulator_jacobian(l1, l2, q1, q2)\n",
        "\n",
        "# Define joint velocities (for example, in radian per second)\n",
        "q1_dot = 0.1\n",
        "q2_dot = 0.2\n",
        "joint_velocities = np.array([q1_dot, q2_dot])\n",
        "\n",
        "end_effector_velocity = np.dot(Jacobian, joint_velocities)\n",
        "\n",
        "end_effector_position = np.zeros(3)  # Initialize the position vector\n",
        "for i in range(2):\n",
        "    end_effector_position += end_effector_velocity[i] * Jacobian[3:6, i]\n",
        "\n",
        "\n",
        "# Print the end-effector position\n",
        "print(\"End-effector position:\")\n",
        "print(end_effector_position)"
      ],
      "metadata": {
        "colab": {
          "base_uri": "https://localhost:8080/"
        },
        "id": "M1xOgydcAG8M",
        "outputId": "fd3ccbee-705d-4b1f-eafd-8833fb8178d8"
      },
      "execution_count": 6,
      "outputs": [
        {
          "output_type": "stream",
          "name": "stdout",
          "text": [
            "End-effector position:\n",
            "[ 0.          0.         -0.21961524]\n"
          ]
        }
      ]
    },
    {
      "cell_type": "markdown",
      "source": [
        "Question 3\n",
        "\n",
        "(c) End effector velocity"
      ],
      "metadata": {
        "id": "L-dCKZ2n_M3a"
      }
    },
    {
      "cell_type": "code",
      "source": [
        "import numpy as np\n",
        "\n",
        "def manipulator_jacobian(l1, l2, q1, q2):\n",
        "    # Define the DH parameters\n",
        "    dh_params = np.array([\n",
        "        [l1, 0, 0, q1],\n",
        "        [l2, 0, 0, q2]\n",
        "    ])\n",
        "\n",
        "    # Initialize the Jacobian matrix\n",
        "    J = np.zeros((6, 2))\n",
        "\n",
        "    #Jacobian matrix using DH parameters\n",
        "    for i in range(2):\n",
        "        a, d, alpha, theta = dh_params[i]\n",
        "        z_i = np.array([0, 0, 1])\n",
        "        p_i = np.array([a * np.cos(theta), a * np.sin(theta), d])\n",
        "        o_i = np.cross(-z_i, p_i)\n",
        "\n",
        "        J[:3, i] = o_i\n",
        "        J[3:, i] = z_i\n",
        "\n",
        "    return J\n",
        "\n",
        "# Example usage\n",
        "l1 = 2\n",
        "l2 = 3\n",
        "q1 = np.pi / 4\n",
        "q2 = np.pi / 6\n",
        "\n",
        "# Calculate the Jacobian matrix\n",
        "Jacobian = manipulator_jacobian(l1, l2, q1, q2)\n",
        "\n",
        "# Define joint velocities (for example, in radian per second)\n",
        "q1_dot = 0.1\n",
        "q2_dot = 0.2\n",
        "joint_velocities = np.array([q1_dot, q2_dot])\n",
        "\n",
        "#end-effector velocity using the Jacobian\n",
        "end_effector_velocity = np.dot(Jacobian, joint_velocities)\n",
        "\n",
        "# Print the end-effector velocity\n",
        "print(\"End-effector velocity:\")\n",
        "print(end_effector_velocity)"
      ],
      "metadata": {
        "colab": {
          "base_uri": "https://localhost:8080/"
        },
        "id": "jtt1gHTK_Ge3",
        "outputId": "69dd388e-03c7-4fc0-c9ef-0158d4ba5f51"
      },
      "execution_count": 3,
      "outputs": [
        {
          "output_type": "stream",
          "name": "stdout",
          "text": [
            "End-effector velocity:\n",
            "[ 0.44142136 -0.6610366   0.          0.          0.          0.3       ]\n"
          ]
        }
      ]
    },
    {
      "cell_type": "markdown",
      "source": [
        "Question 4\n",
        "\n",
        "Apply above code for STANDFORD MANIPULATOR"
      ],
      "metadata": {
        "id": "68KGo5oW_bQO"
      }
    },
    {
      "cell_type": "code",
      "source": [
        "import numpy as np\n",
        "\n",
        "def stanford_manipulator_rrp(q1, q2, d3, l1, l2):\n",
        "    # Define the DH parameters for RRP configuration\n",
        "    dh_params = np.array([\n",
        "        [0, 0, 0, q1],\n",
        "        [0, 0, 0, q2],\n",
        "        [0, d3, 0, 0]\n",
        "    ])\n",
        "\n",
        "    # Initialize the Jacobian matrix\n",
        "    J = np.zeros((6, 3))\n",
        "\n",
        "    # Jacobian matrix using DH parameters\n",
        "    for i in range(3):\n",
        "        a, d, alpha, theta = dh_params[i]\n",
        "        z_i = np.array([0, 0, 1])\n",
        "        p_i = np.array([a * np.cos(theta), a * np.sin(theta), d])\n",
        "        o_i = np.cross(-z_i, p_i)\n",
        "\n",
        "        J[:3, i] = o_i\n",
        "        J[3:, i] = z_i\n",
        "\n",
        "    return J\n",
        "\n",
        "# Example usage for Stanford RRP manipulator\n",
        "q1 = np.pi / 4\n",
        "q2 = np.pi / 6\n",
        "d3 = 2\n",
        "l1 = 1\n",
        "l2 = 1\n",
        "\n",
        "# Calculate the Jacobian matrix\n",
        "Jacobian = stanford_manipulator_rrp(q1, q2, d3, l1, l2)\n",
        "\n",
        "# Define joint velocities (for example, in radian per second)\n",
        "q1_dot = 0.1\n",
        "q2_dot = 0.2\n",
        "d3_dot = 0.3\n",
        "joint_velocities = np.array([q1_dot, q2_dot, d3_dot])\n",
        "\n",
        "# end-effector velocity using the Jacobian\n",
        "end_effector_velocity = np.dot(Jacobian, joint_velocities)\n",
        "\n",
        "# Print the end-effector velocity\n",
        "print(\"End-effector velocity for Stanford RRP manipulator:\")\n",
        "print(end_effector_velocity)\n"
      ],
      "metadata": {
        "colab": {
          "base_uri": "https://localhost:8080/"
        },
        "id": "FoeZqVKX_WaH",
        "outputId": "7601908b-b359-4b74-b4d9-b2dc706816e2"
      },
      "execution_count": 2,
      "outputs": [
        {
          "output_type": "stream",
          "name": "stdout",
          "text": [
            "End-effector velocity for Stanford RRP manipulator:\n",
            "[0.  0.  0.  0.  0.  0.6]\n"
          ]
        }
      ]
    },
    {
      "cell_type": "markdown",
      "source": [
        "Question 4\n",
        "\n",
        "Apply code of SCARA MANIPULATOR"
      ],
      "metadata": {
        "id": "_FWMIB7E_jZ4"
      }
    },
    {
      "cell_type": "code",
      "source": [
        "import numpy as np\n",
        "\n",
        "def scara_manipulator(q1, q2, l1, l2):\n",
        "    # Define the DH parameters for SCARA configuration\n",
        "    dh_params = np.array([\n",
        "        [0, 0, 0, q1],\n",
        "        [0, 0, l1, q2],\n",
        "        [0, 0, 0, 0]\n",
        "    ])\n",
        "\n",
        "    # Initialize the Jacobian matrix\n",
        "    J = np.zeros((6, 2))\n",
        "\n",
        "    # Calculate the Jacobian matrix using DH parameters\n",
        "    for i in range(2):\n",
        "        a, d, alpha, theta = dh_params[i]\n",
        "        z_i = np.array([0, 0, 1])\n",
        "        p_i = np.array([a * np.cos(theta), a * np.sin(theta), d])\n",
        "        o_i = np.cross(-z_i, p_i)\n",
        "\n",
        "        J[:3, i] = o_i\n",
        "        J[3:, i] = z_i\n",
        "\n",
        "    return J\n",
        "\n",
        "# Example usage for SCARA manipulator\n",
        "q1 = np.pi / 4\n",
        "q2 = np.pi / 6\n",
        "l1 = 1\n",
        "l2 = 1\n",
        "\n",
        "# Calculate the Jacobian matrix\n",
        "Jacobian = scara_manipulator(q1, q2, l1, l2)\n",
        "\n",
        "# Define joint velocities (for example, in radian per second)\n",
        "q1_dot = 0.1\n",
        "q2_dot = 0.2\n",
        "joint_velocities = np.array([q1_dot, q2_dot])\n",
        "\n",
        "# Calculate the end-effector velocity using the Jacobian\n",
        "end_effector_velocity = np.dot(Jacobian, joint_velocities)\n",
        "\n",
        "# Print the end-effector velocity\n",
        "print(\"End-effector velocity for SCARA manipulator:\")\n",
        "print(end_effector_velocity)\n"
      ],
      "metadata": {
        "colab": {
          "base_uri": "https://localhost:8080/"
        },
        "id": "zX8A-oid_i7N",
        "outputId": "b8a7fde0-5097-42db-8154-060411525dea"
      },
      "execution_count": 1,
      "outputs": [
        {
          "output_type": "stream",
          "name": "stdout",
          "text": [
            "End-effector velocity for SCARA manipulator:\n",
            "[0.  0.  0.  0.  0.  0.3]\n"
          ]
        }
      ]
    }
  ]
}