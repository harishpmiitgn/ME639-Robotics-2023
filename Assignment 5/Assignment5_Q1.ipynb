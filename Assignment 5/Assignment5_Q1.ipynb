{
  "nbformat": 4,
  "nbformat_minor": 0,
  "metadata": {
    "colab": {
      "provenance": []
    },
    "kernelspec": {
      "name": "python3",
      "display_name": "Python 3"
    },
    "language_info": {
      "name": "python"
    }
  },
  "cells": [
    {
      "cell_type": "code",
      "execution_count": 3,
      "metadata": {
        "id": "ndEFsg6I4i23"
      },
      "outputs": [],
      "source": [
        "import numpy as np\n",
        "\n",
        "d1 = 1.0\t#in m\n",
        "x, y, z = np.random.rand(3) * 2"
      ]
    },
    {
      "cell_type": "code",
      "source": [
        "def inverse_kinematics(x, y, z) -> np.ndarray :\n",
        "\n",
        "\ttheta1 = np.arctan2(y, x)\n",
        "\n",
        "\ta = np.sqrt(x**2 + y**2)\n",
        "\tb = z - d1\n",
        "\n",
        "\ttheta2 = np.arctan2(b, a) + np.pi/2\n",
        "\td3 = np.sqrt(a**2 + b**2)\n",
        "\n",
        "\treturn np.array([theta1, theta2, d3])"
      ],
      "metadata": {
        "id": "x4Nz_Jgj5uZ9"
      },
      "execution_count": 4,
      "outputs": []
    },
    {
      "cell_type": "code",
      "source": [
        "state = inverse_kinematics(x, y, z)\n",
        "state"
      ],
      "metadata": {
        "id": "LEMTqVC36JZF"
      },
      "execution_count": 6,
      "outputs": []
    }
  ]
}