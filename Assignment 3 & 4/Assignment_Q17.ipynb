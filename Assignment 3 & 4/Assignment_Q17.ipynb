{
  "nbformat": 4,
  "nbformat_minor": 0,
  "metadata": {
    "colab": {
      "provenance": []
    },
    "kernelspec": {
      "name": "python3",
      "display_name": "Python 3"
    },
    "language_info": {
      "name": "python"
    }
  },
  "cells": [
    {
      "cell_type": "code",
      "execution_count": null,
      "metadata": {
        "id": "iGONsWQubT7G"
      },
      "outputs": [],
      "source": [
        "import numpy as np"
      ]
    },
    {
      "cell_type": "code",
      "source": [
        "#for a 6 dof manipulator robot\n",
        "\n",
        "def spherical(r36):\n",
        "  if r36[0, 2] != 0 or r36[1, 2] !=0 :\n",
        "    theta_5 = np.arctan2(-np.sqrt(1 - r36[2, 2]**2), r36[2, 2])\n",
        "    theta_4 = np.arctan2(-r36[1, 2],-r36[0, 2])\n",
        "    theta_6 = np.arctan2(-r36[2, 1], r36[2, 0])\n",
        "\n",
        "  else:\n",
        "    theta_4 = 0.\n",
        "    if r36[2, 2] > 0 :\n",
        "      theta_5 = 0\n",
        "      theta_6 = 0 #Considering\n",
        "      theta_4 = np.arctan2(r36[1, 0], r36[0, 0])\n",
        "    else :\n",
        "      theta_5 = np.pi\n",
        "      theta_6 = 0 #Considering\n",
        "      theta_4 = - np.arctan2(-r36[0, 1],-r36[0, 0])\n",
        "\n",
        "  return np.array([theta_4, theta_5, theta_6])"
      ],
      "metadata": {
        "id": "MzA_vO_LbmKj"
      },
      "execution_count": null,
      "outputs": []
    }
  ]
}