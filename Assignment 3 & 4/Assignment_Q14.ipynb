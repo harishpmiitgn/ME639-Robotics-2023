{
  "nbformat": 4,
  "nbformat_minor": 0,
  "metadata": {
    "colab": {
      "provenance": []
    },
    "kernelspec": {
      "name": "python3",
      "display_name": "Python 3"
    },
    "language_info": {
      "name": "python"
    }
  },
  "cells": [
    {
      "cell_type": "code",
      "execution_count": null,
      "metadata": {
        "id": "iGONsWQubT7G"
      },
      "outputs": [],
      "source": [
        "import numpy as np"
      ]
    },
    {
      "cell_type": "code",
      "source": [
        "def dh_transform_matrix(theta, d, a, alpha):#for dh transform matrix\n",
        "    cos_theta = np.cos(theta)\n",
        "    sin_theta = np.sin(theta)\n",
        "    cos_alpha = np.cos(alpha)\n",
        "    sin_alpha = np.sin(alpha)\n",
        "\n",
        "    transformation_matrix = np.array([\n",
        "        [cos_theta, -sin_theta * cos_alpha, sin_theta * sin_alpha, a * cos_theta],\n",
        "        [sin_theta, cos_theta * cos_alpha, -cos_theta * sin_alpha, a * sin_theta],\n",
        "        [0, sin_alpha, cos_alpha, d],\n",
        "        [0, 0, 0, 1]\n",
        "    ])\n",
        "\n",
        "    return transformation_matrix"
      ],
      "metadata": {
        "id": "MzA_vO_LbmKj"
      },
      "execution_count": null,
      "outputs": []
    },
    {
      "cell_type": "code",
      "source": [
        "def end_effpos(dh_params):#calculating the end effector position\n",
        "    num_joints = len(dh_params)\n",
        "    T = np.identity(4)\n",
        "    for i in range(num_joints):\n",
        "        print(T)\n",
        "        theta, d, a, alpha = dh_params[i]\n",
        "        T_i = dh_transform_matrix(theta, d, a, alpha)\n",
        "        T = np.dot(T, T_i)\n",
        "    print(T)\n",
        "    return T[:3, 3]"
      ],
      "metadata": {
        "id": "eDP4PKspqNtM"
      },
      "execution_count": null,
      "outputs": []
    },
    {
      "cell_type": "code",
      "source": [
        "def manipulator_jacobian(dh_params, joint_types=None):#Calculating the Jacobian\n",
        "    if joint_types is None:\n",
        "        joint_types = ['R'] * len(dh_params)\n",
        "\n",
        "    if len(dh_params) != len(joint_types):\n",
        "        raise ValueError(\"Number of DH parameters and joint types must be the same.\")\n",
        "\n",
        "    num_joints = len(dh_params)\n",
        "    T = np.identity(4)\n",
        "    J = np.zeros((6, num_joints))\n",
        "    end_effector_position =end_effpos(dh_params)\n",
        "    for i in range(num_joints):\n",
        "        theta, d, a, alpha = dh_params[i]\n",
        "        T_i = dh_transform_matrix(theta, d, a, alpha)\n",
        "        T = np.dot(T, T_i)\n",
        "        if joint_types[i] == 'R':  # Revolute joint\n",
        "            # Calculate the rotational part of the Jacobian\n",
        "            z = T[:3, 2]\n",
        "            p = end_effector_position-T[:3, 3]\n",
        "            J[:3, i] = np.cross(z, p)\n",
        "\n",
        "            # Calculate the translational part of the Jacobian\n",
        "            J[3:, i] = z\n",
        "        else:\n",
        "            z = T[:3, 2]\n",
        "            J[:3, i] = z\n",
        "    return J"
      ],
      "metadata": {
        "id": "szkpydkrqR8I"
      },
      "execution_count": null,
      "outputs": []
    },
    {
      "cell_type": "code",
      "source": [
        "def Jointvelocities(J,X_dot):\n",
        "    if np.size(J,1)==6:\n",
        "        q=np.dot(np.linalg.inv(J),X_dot)\n",
        "    return \"Error\""
      ],
      "metadata": {
        "id": "vHtP0WTcqVh9"
      },
      "execution_count": null,
      "outputs": []
    },
    {
      "cell_type": "code",
      "source": [
        "# Example usage: theta,d a,alpha\n",
        "dh_params = [\n",
        "    [0, 1, 0, 0],\n",
        "    [-np.pi/2, 1, 0, -np.pi/2],\n",
        "    [-np.pi/2, 1, 0, -np.pi/2],\n",
        "    [0, 1, 0, 0]\n",
        "]\n",
        "\n",
        "joint_types = [\"P\",\"P\",\"P\",\"P\"],\n",
        "\n",
        "end_effector_Velocity=[1,1,1,1,1,1]\n",
        "\n",
        "Jacobian = manipulator_jacobian(dh_params, joint_types)\n",
        "end_effector_position=end_effpos(dh_params)\n",
        "jointVelocity=Jointvelocities(Jacobian,end_effector_Velocity)\n",
        "print(\"Manipulator Jacobian:\")\n",
        "print(Jacobian)\n",
        "print(\"End-effector Position:\")\n",
        "print(end_effector_position)\n",
        "print(\"End-effector Velocity:\")\n",
        "print(jointVelovity)"
      ],
      "metadata": {
        "id": "Hlc6X0kZqXpX"
      },
      "execution_count": null,
      "outputs": []
    }
  ]
}