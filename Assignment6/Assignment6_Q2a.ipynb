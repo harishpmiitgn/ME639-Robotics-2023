{
  "nbformat": 4,
  "nbformat_minor": 0,
  "metadata": {
    "colab": {
      "provenance": []
    },
    "kernelspec": {
      "name": "python3",
      "display_name": "Python 3"
    },
    "language_info": {
      "name": "python"
    }
  },
  "cells": [
    {
      "cell_type": "code",
      "source": [
        "import numpy as np"
      ],
      "metadata": {
        "id": "PijA22s84Ojn"
      },
      "execution_count": 9,
      "outputs": []
    },
    {
      "cell_type": "markdown",
      "source": [
        "Considering a SCARA Manipulator"
      ],
      "metadata": {
        "id": "2AE3qiTD4bZS"
      }
    },
    {
      "cell_type": "code",
      "source": [
        "def Dh(d,theta,alfa,a):\n",
        "    dh=np.zeros((4,4))\n",
        "    dh[0][0]=np.cos(theta)\n",
        "    dh[0][1]=-np.sin(theta)*np.cos(alfa)\n",
        "    dh[0][2]=np.sin(theta)*np.sin(alfa)\n",
        "    dh[0][3]=a*np.cos(theta)\n",
        "    dh[1][0]=np.sin((theta))\n",
        "    dh[1][1]=np.cos(theta)*np.cos(alfa)\n",
        "    dh[1][2]=-np.cos(theta)*np.sin(alfa)\n",
        "    dh[1][3]=a*np.sin(theta)\n",
        "    dh[2][1]=np.sin(alfa)\n",
        "    dh[2][2]=np.cos(alfa)\n",
        "    dh[2][3]=d\n",
        "    dh[3][3]=1\n",
        "    return dh"
      ],
      "metadata": {
        "id": "Q01lFtqp4UTO"
      },
      "execution_count": 10,
      "outputs": []
    },
    {
      "cell_type": "code",
      "source": [
        "def inverse_kinematics(x,y,z):\n",
        "    theta2=np.arccos((x**2+y**2-l1**2-l2**2)/(2*l1*l2))\n",
        "    theta1=np.arctan2(y,x)-np.arctan2(l2*np.sin(theta2),(l1+l2*np.cos(theta2)))\n",
        "    d3=-z\n",
        "    return theta1,theta2,d3"
      ],
      "metadata": {
        "id": "NQn9x7Da4WTV"
      },
      "execution_count": 11,
      "outputs": []
    },
    {
      "cell_type": "code",
      "source": [
        "def forward_kinematics(q):\n",
        "    theta1,theta2,d3=q\n",
        "    T01=Dh(0,theta1,0,l1)\n",
        "    T12=Dh(0,theta2,np.pi,l2)\n",
        "    T23=Dh(d3,0,0,0)\n",
        "\n",
        "    T02=np.matmul(T01,T12)\n",
        "    T03=np.matmul(T02,T23)\n",
        "    x,y,z=T03[0:3,3]\n",
        "    return x,y,z"
      ],
      "metadata": {
        "id": "cey0FO_K4YM-"
      },
      "execution_count": 12,
      "outputs": []
    },
    {
      "cell_type": "code",
      "source": [
        "l1=0.25 #length of link in meters\n",
        "l3=0.25 #length of link in meters\n",
        "l2=0.25 #length of link in meters\n",
        "\n",
        "A=[.4  ,0.06,.1]\n",
        "B=[.4,.01,.1]\n",
        "C=[.35,.01,.1]\n",
        "D=[.35,.06,.1]\n",
        "\n",
        "print(\"For A\", end=\":\")\n",
        "q=inverse_kinematics(A[0],A[1],A[2])\n",
        "print(forward_kinematics(q))\n",
        "\n",
        "print(\"For B\", end=\":\")\n",
        "q=inverse_kinematics(B[0],B[1],B[2])\n",
        "print(forward_kinematics(q))\n",
        "\n",
        "print(\"For C\", end=\":\")\n",
        "q=inverse_kinematics(C[0],C[1],C[2])\n",
        "print(forward_kinematics(q))\n",
        "\n",
        "print(\"For D\", end=\":\")\n",
        "q=inverse_kinematics(D[0],D[1],D[2])\n",
        "print(forward_kinematics(q))"
      ],
      "metadata": {
        "colab": {
          "base_uri": "https://localhost:8080/"
        },
        "id": "tYJChKnc4RYP",
        "outputId": "62802ae6-8223-4921-e233-d91b9372eb44"
      },
      "execution_count": 13,
      "outputs": [
        {
          "output_type": "stream",
          "name": "stdout",
          "text": [
            "For A:(0.4, 0.06000000000000003, 0.1)\n",
            "For B:(0.4, 0.009999999999999992, 0.1)\n",
            "For C:(0.35, 0.010000000000000018, 0.1)\n",
            "For D:(0.35, 0.060000000000000005, 0.1)\n"
          ]
        }
      ]
    }
  ]
}