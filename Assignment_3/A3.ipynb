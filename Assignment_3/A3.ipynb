{
 "cells": [
  {
   "cell_type": "markdown",
   "metadata": {},
   "source": [
    "# Assignment 3"
   ]
  },
  {
   "cell_type": "markdown",
   "metadata": {},
   "source": [
    "## Question 3"
   ]
  },
  {
   "cell_type": "markdown",
   "metadata": {},
   "source": [
    "##### Write a python subroutine that takes in as inputs the number of links and the DH parameters in table/matrix form, and returns the (a) complete manipulator Jacobian, (b) the end-effector position, and (c) end-effector velocity. If you need any other inputs (such as information about the nature of joints (R/P), incorporate this as an additional input to the python code. However, the code is to be setup in a way that if this information is not provided, default assumption of all joints being revolute joints is to be assumed."
   ]
  },
  {
   "cell_type": "markdown",
   "metadata": {},
   "source": [
    "a) Complete Manipulator Jacobian"
   ]
  },
  {
   "cell_type": "code",
   "execution_count": 13,
   "metadata": {},
   "outputs": [],
   "source": [
    "import numpy as np\n",
    "\n",
    "def dh_transform_matrix(theta, d, a, alpha):\n",
    "    return np.array([\n",
    "        [np.cos(theta), -np.sin(theta)*np.cos(alpha),  np.sin(theta)*np.sin(alpha), a*np.cos(theta)],\n",
    "        [np.sin(theta),  np.cos(theta)*np.cos(alpha), -np.cos(theta)*np.sin(alpha), a*np.sin(theta)],\n",
    "        [            0,              np.sin(alpha),              np.cos(alpha),              d],\n",
    "        [            0,                          0,                          0,              1]\n",
    "    ])\n",
    "\n",
    "def calculate_jacobian(num_links, dh_params, joint_types=None):\n",
    "    if joint_types is None:\n",
    "        joint_types = ['R'] * num_links \n",
    "    \n",
    "    J = np.zeros((6, num_links))  \n",
    "    T = np.eye(4)  \n",
    "\n",
    "    for i in range(num_links):\n",
    "        theta, d, a, alpha = dh_params[i]\n",
    "        T_link = dh_transform_matrix(theta, d, a, alpha)\n",
    "        T = np.dot(T, T_link)\n",
    "        \n",
    "        if joint_types[i] == 'R':\n",
    "            J[:3, i] = np.cross(T[:3, 2], T[:3, 3] - np.eye(4)[:3, 3])\n",
    "            J[3:, i] = T[:3, 2]\n",
    "        else:\n",
    "            J[:3, i] = T[:3, 2]\n",
    "            J[3:, i] = np.zeros(3)\n",
    "\n",
    "    return J\n"
   ]
  },
  {
   "cell_type": "markdown",
   "metadata": {},
   "source": [
    "b) End - Effector Position"
   ]
  },
  {
   "cell_type": "code",
   "execution_count": 14,
   "metadata": {},
   "outputs": [],
   "source": [
    "def end_effector_position(num_links, dh_params):\n",
    "    T = np.eye(4) \n",
    "\n",
    "    for i in range(num_links):\n",
    "        theta, d, a, alpha = dh_params[i]\n",
    "        T_link = dh_transform_matrix(theta, d, a, alpha)\n",
    "        T = np.dot(T, T_link)\n",
    "\n",
    "    return T[:3, 3]\n"
   ]
  },
  {
   "cell_type": "markdown",
   "metadata": {},
   "source": [
    "c) End - Effector Veloccity"
   ]
  },
  {
   "cell_type": "code",
   "execution_count": 15,
   "metadata": {},
   "outputs": [],
   "source": [
    "def end_effector_velocity(num_links, dh_params, joint_velocities, joint_types=None):\n",
    "    J = calculate_jacobian(num_links, dh_params, joint_types)\n",
    "    velocity = np.dot(J, joint_velocities)\n",
    "    return velocity\n"
   ]
  },
  {
   "cell_type": "code",
   "execution_count": 16,
   "metadata": {},
   "outputs": [
    {
     "name": "stdout",
     "output_type": "stream",
     "text": [
      "Jacobian:\n",
      " [[-6.12323400e-17 -1.22464680e-16  1.00000000e+00]\n",
      " [ 3.74939946e-33  7.49879891e-33 -1.22464680e-16]\n",
      " [ 1.00000000e+00  2.00000000e+00  1.83697020e-16]\n",
      " [ 1.00000000e+00  1.00000000e+00  1.22464680e-16]\n",
      " [-6.12323400e-17 -6.12323400e-17  1.00000000e+00]\n",
      " [ 6.12323400e-17  6.12323400e-17 -6.12323400e-17]]\n",
      "\n",
      "End-Effector Position:\n",
      " [6.123234e-17 2.000000e+00 1.000000e+00]\n",
      "\n",
      "End-Effector Velocity:\n",
      " [ 5.000000e-01 -6.123234e-17  1.500000e+00  1.000000e+00  5.000000e-01\n",
      "  3.061617e-17]\n",
      "\n"
     ]
    }
   ],
   "source": [
    "num_links = 3\n",
    "dh_params = np.array([\n",
    "    [np.pi/2, 0, 1, np.pi/2],\n",
    "    [0, 0, 1, 0],\n",
    "    [np.pi/2, 0, 1, np.pi/2]\n",
    "])\n",
    "joint_velocities = np.array([0.5, 0.5, 0.5])\n",
    "\n",
    "Jacobian = calculate_jacobian(num_links, dh_params)\n",
    "end_position = end_effector_position(num_links, dh_params)\n",
    "end_velocity = end_effector_velocity(num_links, dh_params, joint_velocities)\n",
    "\n",
    "# Display results\n",
    "print(\"Jacobian:\\n\", Jacobian)\n",
    "print()\n",
    "print(\"End-Effector Position:\\n\", end_position)\n",
    "print()\n",
    "print(\"End-Effector Velocity:\\n\", end_velocity)\n",
    "print()\n"
   ]
  },
  {
   "cell_type": "markdown",
   "metadata": {},
   "source": [
    "## Question 4"
   ]
  },
  {
   "cell_type": "markdown",
   "metadata": {},
   "source": [
    "#### Apply the above code to the two common RRP configurations of Stanford manipulator and SCARA manipulator. Verify that the results obtained using the code match with the expressions derived earlier (by yourself and in the textbook). You may choose a few configurations (numerical values) to verify your results."
   ]
  },
  {
   "cell_type": "markdown",
   "metadata": {},
   "source": [
    "Stanford Manipulator (RRP Configuration)"
   ]
  },
  {
   "cell_type": "code",
   "execution_count": 17,
   "metadata": {},
   "outputs": [],
   "source": [
    "num_links_stanford = 3\n",
    "dh_params_stanford = np.array([\n",
    "    [0, 0, 2, np.pi/2],   # Link 1\n",
    "    [0, 0, 0, -np.pi/2],  # Link 2\n",
    "    [0, 1, 0, 0]          # Link 3 (Prismatic)\n",
    "])\n",
    "joint_types_stanford = ['R', 'R', 'P']\n"
   ]
  },
  {
   "cell_type": "code",
   "execution_count": 18,
   "metadata": {},
   "outputs": [
    {
     "name": "stdout",
     "output_type": "stream",
     "text": [
      "Stanford Manipulator Jacobian:\n",
      " [[-0.0000000e+00  0.0000000e+00  0.0000000e+00]\n",
      " [ 1.2246468e-16  2.0000000e+00  0.0000000e+00]\n",
      " [ 2.0000000e+00  0.0000000e+00  1.0000000e+00]\n",
      " [ 0.0000000e+00  0.0000000e+00  0.0000000e+00]\n",
      " [-1.0000000e+00  0.0000000e+00  0.0000000e+00]\n",
      " [ 6.1232340e-17  1.0000000e+00  0.0000000e+00]]\n",
      "\n",
      "Stanford Manipulator End-Effector Position:\n",
      " [2. 0. 1.]\n",
      "\n",
      "Stanford Manipulator End-Effector Velocity:\n",
      " [ 0.   1.   1.5  0.  -0.5  0.5]\n"
     ]
    }
   ],
   "source": [
    "Jacobian_stanford = calculate_jacobian(num_links_stanford, dh_params_stanford, joint_types_stanford)\n",
    "end_position_stanford = end_effector_position(num_links_stanford, dh_params_stanford)\n",
    "end_velocity_stanford = end_effector_velocity(num_links_stanford, dh_params_stanford, [0.5, 0.5, 0.5], joint_types_stanford)\n",
    "\n",
    "print(\"Stanford Manipulator Jacobian:\\n\", Jacobian_stanford)\n",
    "print()\n",
    "print(\"Stanford Manipulator End-Effector Position:\\n\", end_position_stanford)\n",
    "print()\n",
    "print(\"Stanford Manipulator End-Effector Velocity:\\n\", end_velocity_stanford)\n"
   ]
  },
  {
   "cell_type": "markdown",
   "metadata": {},
   "source": [
    "SCARA Manipulator (RRP Configuration)"
   ]
  },
  {
   "cell_type": "code",
   "execution_count": 19,
   "metadata": {},
   "outputs": [],
   "source": [
    "num_links_scara = 3\n",
    "dh_params_scara = np.array([\n",
    "    [0, 0.5, 1, 0],     \n",
    "    [0, 0, 1, 0],        \n",
    "    [0, 0, 0, 0]         \n",
    "])\n",
    "joint_types_scara = ['R', 'R', 'P']"
   ]
  },
  {
   "cell_type": "code",
   "execution_count": 20,
   "metadata": {},
   "outputs": [
    {
     "name": "stdout",
     "output_type": "stream",
     "text": [
      "SCARA Manipulator Jacobian:\n",
      " [[0. 0. 0.]\n",
      " [1. 2. 0.]\n",
      " [0. 0. 1.]\n",
      " [0. 0. 0.]\n",
      " [0. 0. 0.]\n",
      " [1. 1. 0.]]\n",
      "\n",
      "SCARA Manipulator End-Effector Position:\n",
      " [2.  0.  0.5]\n",
      "\n",
      "SCARA Manipulator End-Effector Velocity:\n",
      " [0.  1.5 0.5 0.  0.  1. ]\n"
     ]
    }
   ],
   "source": [
    "Jacobian_scara = calculate_jacobian(num_links_scara, dh_params_scara, joint_types_scara)\n",
    "end_position_scara = end_effector_position(num_links_scara, dh_params_scara)\n",
    "end_velocity_scara = end_effector_velocity(num_links_scara, dh_params_scara, [0.5, 0.5, 0.5], joint_types_scara)\n",
    "\n",
    "print(\"SCARA Manipulator Jacobian:\\n\", Jacobian_scara)\n",
    "print()\n",
    "print(\"SCARA Manipulator End-Effector Position:\\n\", end_position_scara)\n",
    "print()\n",
    "print(\"SCARA Manipulator End-Effector Velocity:\\n\", end_velocity_scara)\n"
   ]
  },
  {
   "cell_type": "markdown",
   "metadata": {},
   "source": [
    "## Question 5"
   ]
  },
  {
   "cell_type": "markdown",
   "metadata": {},
   "source": [
    "#### Solve problem 3-7 in the textbook and also verify your hand-derived answers using the code in Task 3."
   ]
  },
  {
   "cell_type": "code",
   "execution_count": 21,
   "metadata": {},
   "outputs": [
    {
     "name": "stdout",
     "output_type": "stream",
     "text": [
      "Three-link Cartesian Manipulator Jacobian:\n",
      " [[ 1.0000000e+00  2.0000000e+00  2.0000000e+00]\n",
      " [ 0.0000000e+00 -0.0000000e+00  0.0000000e+00]\n",
      " [ 0.0000000e+00  0.0000000e+00  0.0000000e+00]\n",
      " [ 0.0000000e+00  0.0000000e+00  0.0000000e+00]\n",
      " [ 1.0000000e+00  1.2246468e-16  1.2246468e-16]\n",
      " [ 6.1232340e-17 -1.0000000e+00 -1.0000000e+00]]\n",
      "\n",
      "Three-link Cartesian Manipulator End-Effector Position:\n",
      " [ 0.  2. -2.]\n",
      "\n",
      "Three-link Cartesian Manipulator End-Effector Velocity:\n",
      " [ 2.5  0.   0.   0.   0.5 -1. ]\n"
     ]
    }
   ],
   "source": [
    "d1, d2, d3 = 1, 2, 3  # Example values for d1, d2, and d3\n",
    "dh_params = np.array([\n",
    "    [0, d1, 0, -np.pi/2],\n",
    "    [0, d2, 0, -np.pi/2],\n",
    "    [0, d3, 0, 0]\n",
    "])\n",
    "\n",
    "\n",
    "Jacobian = calculate_jacobian(num_links, dh_params)\n",
    "end_position = end_effector_position(num_links, dh_params)\n",
    "end_velocity = end_effector_velocity(num_links, dh_params, joint_velocities)\n",
    "\n",
    "print(\"Three-link Cartesian Manipulator Jacobian:\\n\", Jacobian)\n",
    "print()\n",
    "print(\"Three-link Cartesian Manipulator End-Effector Position:\\n\", end_position)\n",
    "print()\n",
    "print(\"Three-link Cartesian Manipulator End-Effector Velocity:\\n\", end_velocity)"
   ]
  },
  {
   "cell_type": "markdown",
   "metadata": {},
   "source": [
    "## Question 6"
   ]
  },
  {
   "cell_type": "markdown",
   "metadata": {},
   "source": [
    "#### Solve problem 3-8 in the textbook and also verify your hand-derived answers using the code in Task 3."
   ]
  },
  {
   "cell_type": "code",
   "execution_count": 22,
   "metadata": {},
   "outputs": [
    {
     "name": "stdout",
     "output_type": "stream",
     "text": [
      "Jacobian:\n",
      " [[-0.70710678 -0.77015115 -0.10272831]\n",
      " [ 1.11072073 -0.23396411 -0.62031454]\n",
      " [ 1.11072073  1.2097506   0.16136526]\n",
      " [ 0.          0.59500984  0.96954504]\n",
      " [-0.70710678 -0.77015115 -0.10272831]\n",
      " [ 0.70710678  0.22984885  0.22232704]]\n"
     ]
    }
   ],
   "source": [
    "d1, a2, a3, d6 = 1, 1, 1, 1\n",
    "theta_star = np.pi / 4  \n",
    "\n",
    "dh_params = np.array([\n",
    "    [0, d1, np.pi/2, theta_star],\n",
    "    [a2, 0, 0, theta_star],\n",
    "    [a3, 0, 0, theta_star],\n",
    "    [-np.pi/2, 0, 0, theta_star],\n",
    "    [np.pi/2, 0, 0, theta_star],\n",
    "    [0, d6, 0, theta_star]\n",
    "])\n",
    "\n",
    "def calculate_jacobian(num_links, dh_params, joint_types=None):\n",
    "    if joint_types is None:\n",
    "        joint_types = ['R'] * num_links \n",
    "    \n",
    "    J = np.zeros((6, num_links))  \n",
    "    T = np.eye(4)  \n",
    "\n",
    "    for i in range(num_links):\n",
    "        theta, d, a, alpha = dh_params[i]\n",
    "        T_link = dh_transform_matrix(theta, d, a, alpha)\n",
    "        T = np.dot(T, T_link)\n",
    "        \n",
    "        if joint_types[i] == 'R':\n",
    "            J[:3, i] = np.cross(T[:3, 2], T[:3, 3] - np.eye(4)[:3, 3])\n",
    "            J[3:, i] = T[:3, 2]\n",
    "        else:\n",
    "            J[:3, i] = T[:3, 2]\n",
    "            J[3:, i] = np.zeros(3)\n",
    "\n",
    "    return J\n",
    "\n",
    "Jacobian = calculate_jacobian(num_links, dh_params)\n",
    "print(\"Jacobian:\\n\", Jacobian)\n"
   ]
  },
  {
   "cell_type": "code",
   "execution_count": 23,
   "metadata": {},
   "outputs": [
    {
     "name": "stdout",
     "output_type": "stream",
     "text": [
      "End-Effector Position:\n",
      " [1.57079633 0.         1.        ]\n"
     ]
    }
   ],
   "source": [
    "# Function for End-Effector Position\n",
    "def end_effector_position(num_links, dh_params):\n",
    "    T = np.eye(4) \n",
    "\n",
    "    for i in range(num_links):\n",
    "        theta, d, a, alpha = dh_params[i]\n",
    "        T_link = dh_transform_matrix(theta, d, a, alpha)\n",
    "        T = np.dot(T, T_link)\n",
    "\n",
    "    return T[:3, 3]\n",
    "\n",
    "end_position = end_effector_position(num_links, dh_params)\n",
    "print(\"End-Effector Position:\\n\", end_position)"
   ]
  },
  {
   "cell_type": "code",
   "execution_count": 24,
   "metadata": {},
   "outputs": [
    {
     "name": "stdout",
     "output_type": "stream",
     "text": [
      "End-Effector Velocity:\n",
      " [-0.27752112 -1.54474253 -0.16079965  1.60276363 -0.0873241   0.04097128]\n"
     ]
    }
   ],
   "source": [
    "num_links = 6\n",
    "joint_velocities = np.array([0.5, 0.5, 0.5, 0.5, 0.5, 0.5])\n",
    "\n",
    "# Function for End-Effector Velocity\n",
    "def end_effector_velocity(num_links, dh_params, joint_velocities, joint_types=None):\n",
    "    J = calculate_jacobian(num_links, dh_params, joint_types)\n",
    "    velocity = np.dot(J, joint_velocities)\n",
    "    return velocity\n",
    "\n",
    "joint_velocities = np.array([0.5, 0.5, 0.5, 0.5, 0.5, 0.5])\n",
    "end_velocity = end_effector_velocity(num_links, dh_params, joint_velocities)\n",
    "print(\"End-Effector Velocity:\\n\", end_velocity)"
   ]
  }
 ],
 "metadata": {
  "kernelspec": {
   "display_name": "base",
   "language": "python",
   "name": "python3"
  },
  "language_info": {
   "codemirror_mode": {
    "name": "ipython",
    "version": 3
   },
   "file_extension": ".py",
   "mimetype": "text/x-python",
   "name": "python",
   "nbconvert_exporter": "python",
   "pygments_lexer": "ipython3",
   "version": "3.11.3"
  }
 },
 "nbformat": 4,
 "nbformat_minor": 2
}
