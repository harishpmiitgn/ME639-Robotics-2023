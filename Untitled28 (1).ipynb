{
  "nbformat": 4,
  "nbformat_minor": 0,
  "metadata": {
    "colab": {
      "provenance": []
    },
    "kernelspec": {
      "name": "python3",
      "display_name": "Python 3"
    },
    "language_info": {
      "name": "python"
    }
  },
  "cells": [
    {
      "cell_type": "markdown",
      "source": [
        "# Assignment 2"
      ],
      "metadata": {
        "id": "OhT63hQ6FipG"
      }
    },
    {
      "cell_type": "markdown",
      "source": [
        "3. Write a python code incorporating the above calculation that can return\n",
        "the position vector of the end effector for any given configuration of joint\n",
        "variables (angles and extension)."
      ],
      "metadata": {
        "id": "P9HxO7d2EAtd"
      }
    },
    {
      "cell_type": "code",
      "execution_count": 1,
      "metadata": {
        "colab": {
          "base_uri": "https://localhost:8080/"
        },
        "id": "Mdl7m-B4D3h7",
        "outputId": "41f7ce6c-c411-4d2a-b48a-b9ac8c0daf1a"
      },
      "outputs": [
        {
          "output_type": "stream",
          "name": "stdout",
          "text": [
            "[0.14644661 0.85355339 0.29289322]\n"
          ]
        }
      ],
      "source": [
        "import numpy as np\n",
        "\n",
        "def end_effector_position(theta1, theta2, d3):\n",
        "    # Define link lengths\n",
        "    L1 = 1\n",
        "    L2 = 1\n",
        "\n",
        "    # Define transformation matrices\n",
        "    T1 = np.array([[np.cos(theta1), -np.sin(theta1), 0, 0],\n",
        "                   [np.sin(theta1), np.cos(theta1), 0, 0],\n",
        "                   [0, 0, 1, L1],\n",
        "                   [0, 0, 0, 1]])\n",
        "    T2 = np.array([[np.cos(theta2), 0, np.sin(theta2), 0],\n",
        "                   [0, 1, 0, 0],\n",
        "                   [-np.sin(theta2), 0, np.cos(theta2), 0],\n",
        "                   [0, 0, 0, 1]])\n",
        "    T3 = np.array([[1, 0, 0, L2],\n",
        "                   [0, 1, 0, d3],\n",
        "                   [0, 0, 1, 0],\n",
        "                   [0, 0, 0, 1]])\n",
        "\n",
        "    # Calculate end effector position\n",
        "    T = T1 @ T2 @ T3\n",
        "    p = T[:3,-1]\n",
        "\n",
        "    return p\n",
        "\n",
        "# Example usage\n",
        "theta1 = np.pi/4\n",
        "theta2 = np.pi/4\n",
        "d3 = 0.5\n",
        "p = end_effector_position(theta1, theta2, d3)\n",
        "print(p)\n"
      ]
    },
    {
      "cell_type": "markdown",
      "source": [
        "4. Repeat the above exercise for the Stanford-type RRP configuration, again\n",
        "write a python code that can return the position vector of the end effector\n",
        "for any given configuration of joint variables (angles and extension)."
      ],
      "metadata": {
        "id": "abO_L96eEFaJ"
      }
    },
    {
      "cell_type": "code",
      "source": [
        "import numpy as np\n",
        "\n",
        "def end_effector_position(theta1, theta2, d3):\n",
        "    # Define link lengths\n",
        "    L1 = 1\n",
        "    L2 = 1\n",
        "\n",
        "    # Define transformation matrices\n",
        "    T1 = np.array([[np.cos(theta1), -np.sin(theta1), 0, 0],\n",
        "                   [np.sin(theta1), np.cos(theta1), 0, 0],\n",
        "                   [0, 0, 1, 0],\n",
        "                   [0, 0, 0, 1]])\n",
        "    T2 = np.array([[np.cos(theta2), -np.sin(theta2), 0, L1],\n",
        "                   [np.sin(theta2), np.cos(theta2), 0, 0],\n",
        "                   [0, 0, 1, 0],\n",
        "                   [0, 0, 0, 1]])\n",
        "    T3 = np.array([[1, 0, 0, L2],\n",
        "                   [0, 1, 0, 0],\n",
        "                   [0, 0, 1, d3],\n",
        "                   [0, 0, 0, 1]])\n",
        "\n",
        "    # Calculate end effector position\n",
        "    T = T1 @ T2 @ T3\n",
        "    p = T[:3,-1]\n",
        "\n",
        "    return p\n",
        "\n",
        "# Example usage\n",
        "theta1 = np.pi/4\n",
        "theta2 = np.pi/4\n",
        "d3 = 0.5\n",
        "p = end_effector_position(theta1, theta2, d3)\n",
        "print(p)\n"
      ],
      "metadata": {
        "colab": {
          "base_uri": "https://localhost:8080/"
        },
        "id": "6O4MyvGmEEa3",
        "outputId": "725d57d7-8d76-4c92-9d04-7ea9aa63b9c2"
      },
      "execution_count": 2,
      "outputs": [
        {
          "output_type": "stream",
          "name": "stdout",
          "text": [
            "[0.70710678 1.70710678 0.5       ]\n"
          ]
        }
      ]
    },
    {
      "cell_type": "markdown",
      "source": [
        "8. Write a python code implementing the above Jacobian such that the entire\n",
        "Jacobian matrix is output for any given values of joint variables."
      ],
      "metadata": {
        "id": "odMeJMQXER3W"
      }
    },
    {
      "cell_type": "code",
      "source": [
        "import numpy as np\n",
        "\n",
        "def jacobian(theta1, theta2, d3):\n",
        "    # Define link lengths\n",
        "    L1 = 1\n",
        "    L2 = 1\n",
        "\n",
        "    # Define transformation matrices\n",
        "    T1 = np.array([[np.cos(theta1), -np.sin(theta1), 0, 0],\n",
        "                   [np.sin(theta1), np.cos(theta1), 0, 0],\n",
        "                   [0, 0, 1, L1],\n",
        "                   [0, 0, 0, 1]])\n",
        "    T2 = np.array([[np.cos(theta2), -np.sin(theta2), 0, L2],\n",
        "                   [np.sin(theta2), np.cos(theta2), 0, 0],\n",
        "                   [0, 0, 1, d3],\n",
        "                   [0, 0, 0, 1]])\n",
        "\n",
        "    # Calculate end effector position\n",
        "    T = T1 @ T2\n",
        "    o3 = T[:3,-1]\n",
        "\n",
        "    # Define axes of rotation\n",
        "    z0 = np.array([0, 0, 1])\n",
        "    z1 = T1[:3,-2]\n",
        "    z2 = np.array([0, 0, 1])\n",
        "\n",
        "    # Define origins of frames\n",
        "    o0 = np.array([0, 0, 0])\n",
        "    o1 = T1[:3,-1]\n",
        "\n",
        "    # Calculate linear velocity part of Jacobian\n",
        "    Jv = np.zeros((3,3))\n",
        "    Jv[:,0] = np.cross(z0,o3 - o0)\n",
        "    Jv[:,1] = np.cross(z1,o3 - o1)\n",
        "    Jv[:,2] = z2\n",
        "\n",
        "    # Calculate angular velocity part of Jacobian\n",
        "    Jw = np.zeros((3,3))\n",
        "    Jw[:,0] = z0\n",
        "    Jw[:,1] = z1\n",
        "\n",
        "    # Combine to form full Jacobian\n",
        "    J = np.vstack((Jv,Jw))\n",
        "\n",
        "    return J\n",
        "\n",
        "# Example usage\n",
        "theta1_val = np.pi/4\n",
        "theta2_val = np.pi/4\n",
        "d3_val = 0.5\n",
        "J_val = jacobian(theta1_val, theta2_val, d3_val)\n",
        "print(J_val)\n"
      ],
      "metadata": {
        "colab": {
          "base_uri": "https://localhost:8080/"
        },
        "id": "FZNqRiLBEQBM",
        "outputId": "12ec4e12-49b7-45d4-fae3-20a564ced85c"
      },
      "execution_count": 3,
      "outputs": [
        {
          "output_type": "stream",
          "name": "stdout",
          "text": [
            "[[-0.70710678 -0.70710678  0.        ]\n",
            " [ 0.70710678  0.70710678  0.        ]\n",
            " [ 0.          0.          1.        ]\n",
            " [ 0.          0.          0.        ]\n",
            " [ 0.          0.          0.        ]\n",
            " [ 1.          1.          0.        ]]\n"
          ]
        }
      ]
    },
    {
      "cell_type": "markdown",
      "source": [
        "10. Write a python code implementing the above Jacobian such that the entire\n",
        "Jacobian matrix is output for any given values of joint variables."
      ],
      "metadata": {
        "id": "MaOdy-DGEgrn"
      }
    },
    {
      "cell_type": "code",
      "source": [
        "import numpy as np\n",
        "\n",
        "def jacobian(theta1, theta2, theta3):\n",
        "    # Define link lengths\n",
        "    L1 = 1\n",
        "    L2 = 1\n",
        "    L3 = 1\n",
        "\n",
        "    # Define transformation matrices\n",
        "    T1 = np.array([[np.cos(theta1), -np.sin(theta1), 0, 0],\n",
        "                   [np.sin(theta1), np.cos(theta1), 0, 0],\n",
        "                   [0, 0, 1, L1],\n",
        "                   [0, 0, 0, 1]])\n",
        "    T2 = np.array([[np.cos(theta2), -np.sin(theta2), 0, L2],\n",
        "                   [np.sin(theta2), np.cos(theta2), 0, 0],\n",
        "                   [0, 0, 1, 0],\n",
        "                   [0, 0, 0, 1]])\n",
        "    T3 = np.array([[np.cos(theta3), -np.sin(theta3), 0, L3],\n",
        "                   [np.sin(theta3), np.cos(theta3), 0, 0],\n",
        "                   [0, 0, 1, 0],\n",
        "                   [0, 0, 0, 1]])\n",
        "\n",
        "    # Calculate end effector position\n",
        "    T = T1 @ T2 @ T3\n",
        "    o3 = T[:3,-1]\n",
        "\n",
        "    # Define axes of rotation\n",
        "    z0 = np.array([0, 0, 1])\n",
        "    z1 = z0\n",
        "    z2 = z0\n",
        "\n",
        "    # Define origins of frames\n",
        "    o0 = np.array([0, 0, 0])\n",
        "    o1 = T1[:3,-1]\n",
        "    o2 = (T1 @ T2)[:3,-1]\n",
        "\n",
        "    # Calculate linear velocity part of Jacobian\n",
        "    Jv = np.zeros((3,3))\n",
        "    Jv[:,0] = np.cross(z0,o3 - o0)\n",
        "    Jv[:,1] = np.cross(z1,o3 - o1)\n",
        "    Jv[:,2] = np.cross(z2,o3 - o2)\n",
        "\n",
        "    # Calculate angular velocity part of Jacobian\n",
        "    Jw = np.zeros((3,3))\n",
        "    Jw[:,0] = z0\n",
        "    Jw[:,1] = z1\n",
        "    Jw[:,2] = z2\n",
        "\n",
        "    # Combine to form full Jacobian\n",
        "    J = np.vstack((Jv,Jw))\n",
        "\n",
        "    return J\n",
        "\n",
        "# Example usage\n",
        "theta1_val = np.pi/4\n",
        "theta2_val = np.pi/4\n",
        "theta3_val = np.pi/4\n",
        "J_val = jacobian(theta1_val, theta2_val, theta3_val)\n",
        "print(J_val)\n"
      ],
      "metadata": {
        "colab": {
          "base_uri": "https://localhost:8080/"
        },
        "id": "7Ra9GmjkEawM",
        "outputId": "604e006b-9f37-494f-bdb0-cc502eb39742"
      },
      "execution_count": 4,
      "outputs": [
        {
          "output_type": "stream",
          "name": "stdout",
          "text": [
            "[[-1.70710678e+00 -1.70710678e+00 -1.00000000e+00]\n",
            " [ 7.07106781e-01  7.07106781e-01  2.22044605e-16]\n",
            " [ 0.00000000e+00  0.00000000e+00  0.00000000e+00]\n",
            " [ 0.00000000e+00  0.00000000e+00  0.00000000e+00]\n",
            " [ 0.00000000e+00  0.00000000e+00  0.00000000e+00]\n",
            " [ 1.00000000e+00  1.00000000e+00  1.00000000e+00]]\n"
          ]
        }
      ]
    }
  ]
}