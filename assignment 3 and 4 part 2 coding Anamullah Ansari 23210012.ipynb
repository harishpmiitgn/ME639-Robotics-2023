{
  "nbformat": 4,
  "nbformat_minor": 0,
  "metadata": {
    "colab": {
      "provenance": []
    },
    "kernelspec": {
      "name": "python3",
      "display_name": "Python 3"
    },
    "language_info": {
      "name": "python"
    }
  },
  "cells": [
    {
      "cell_type": "markdown",
      "source": [],
      "metadata": {
        "id": "ISAZTGletRH-"
      }
    },
    {
      "cell_type": "markdown",
      "source": [
        "Question 18\n",
        "\n",
        "3D printer (PPP)"
      ],
      "metadata": {
        "id": "zjYWQ2vitF2y"
      }
    },
    {
      "cell_type": "code",
      "source": [
        "import numpy as np\n",
        "\n",
        "def manipulator_jacobian(num_links, dh_parameters):\n",
        "\n",
        "    jacobian = np.zeros((6, num_links))\n",
        "\n",
        "\n",
        "    q = [0] * num_links\n",
        "    d = [0] * num_links\n",
        "\n",
        "    for i in range(num_links):\n",
        "        theta, d_i, a, alpha = dh_parameters[i]\n",
        "\n",
        "        #  DH transformation matrix\n",
        "        cos_theta = np.cos(theta)\n",
        "        sin_theta = np.sin(theta)\n",
        "        cos_alpha = np.cos(alpha)\n",
        "        sin_alpha = np.sin(alpha)\n",
        "\n",
        "        transformation_matrix = np.array([\n",
        "            [cos_theta, -sin_theta * cos_alpha, sin_theta * sin_alpha, a * cos_theta],\n",
        "            [sin_theta, cos_theta * cos_alpha, -cos_theta * sin_alpha, a * sin_theta],\n",
        "            [0, sin_alpha, cos_alpha, d_i],\n",
        "            [0, 0, 0, 1]\n",
        "        ])\n",
        "\n",
        "        # screw axis for the joint\n",
        "        z_i = transformation_matrix[:3, 2]\n",
        "        p_i = transformation_matrix[:3, 3]\n",
        "\n",
        "        if i == 0:\n",
        "            jacobian[:3, i] = np.cross([0, 0, 1], p_i)\n",
        "            jacobian[3:, i] = [0, 0, 1]\n",
        "        else:\n",
        "            jacobian[:3, i] = np.cross(z_i, p_i - p_prev)\n",
        "            jacobian[3:, i] = z_i\n",
        "\n",
        "        p_prev = p_i\n",
        "\n",
        "    return jacobian\n",
        "\n",
        "def forward_kinematics(num_links, dh_parameters):\n",
        "    # Initialize the transformation matrix\n",
        "    T = np.eye(4)\n",
        "\n",
        "    for i in range(num_links):\n",
        "        theta, d_i, a, alpha = dh_parameters[i]\n",
        "\n",
        "        # DH transformation matrix\n",
        "        cos_theta = np.cos(theta)\n",
        "        sin_theta = np.sin(theta)\n",
        "        cos_alpha = np.cos(alpha)\n",
        "        sin_alpha = np.sin(alpha)\n",
        "\n",
        "        transformation_matrix = np.array([\n",
        "            [cos_theta, -sin_theta * cos_alpha, sin_theta * sin_alpha, a * cos_theta],\n",
        "            [sin_theta, cos_theta * cos_alpha, -cos_theta * sin_alpha, a * sin_theta],\n",
        "            [0, sin_alpha, cos_alpha, d_i],\n",
        "            [0, 0, 0, 1]\n",
        "        ])\n",
        "\n",
        "        # overall transformation matrix\n",
        "        T = np.dot(T, transformation_matrix)\n",
        "\n",
        "    return T\n",
        "\n",
        "#  DH parameters for the PPP configuration\n",
        "d1 = 2.0\n",
        "d2 = 3.0\n",
        "d3 = 4.0\n",
        "\n",
        "dh_params = np.array([[0, d1, 0, 0],\n",
        "                      [0, d2, 0, 0],\n",
        "                      [0, d3, 0, 0]])\n",
        "\n",
        "# forward kinematics for the given DH parameters\n",
        "end_effector_pose = forward_kinematics(3, dh_params)\n",
        "\n",
        "\n",
        "print(\"End-effector position:\")\n",
        "print(end_effector_pose[:3, 3])\n",
        "\n",
        "# matrix for the given DH parameters\n",
        "Jacobian = manipulator_jacobian(3, dh_params)\n",
        "\n",
        "#joint velocities (for example, in mm/s)\n",
        "d1_dot = 0.1\n",
        "d2_dot = 0.2\n",
        "d3_dot = 0.3\n",
        "joint_velocities = np.array([d1_dot, d2_dot, d3_dot])\n",
        "\n",
        "# the end-effector velocity using the Jacobian\n",
        "end_effector_velocity = np.dot(Jacobian, joint_velocities)\n",
        "\n",
        "print(\"End-effector velocity:\")\n",
        "print(end_effector_velocity)\n"
      ],
      "metadata": {
        "colab": {
          "base_uri": "https://localhost:8080/"
        },
        "id": "6YVVFFVVylyQ",
        "outputId": "3e199939-5bd3-4be5-ac8b-563d6113145d"
      },
      "execution_count": null,
      "outputs": [
        {
          "output_type": "stream",
          "name": "stdout",
          "text": [
            "End-effector position:\n",
            "[0. 0. 9.]\n",
            "End-effector velocity:\n",
            "[0.  0.  0.  0.  0.  0.6]\n"
          ]
        }
      ]
    },
    {
      "cell_type": "markdown",
      "source": [
        "Question(17)\n",
        "\n",
        "Python subroutine for the inverse kinematics of the spherical wrist"
      ],
      "metadata": {
        "id": "p1KXSywnx6Sz"
      }
    },
    {
      "cell_type": "code",
      "source": [
        "import math\n",
        "\n",
        "def spherical_wrist_inverse_kinematics(x, y, z, link_lengths):\n",
        "    #link lengths\n",
        "    l1, l2, l3 = link_lengths\n",
        "\n",
        "    #first joint angle (q1)\n",
        "    q1 = math.atan2(y, x)\n",
        "\n",
        "    # distance from the base to the projection of the end-effector in the xy-plane\n",
        "    D_xy = math.sqrt(x**2 + y**2)\n",
        "\n",
        "    #height difference between the end-effector and the first wrist joint\n",
        "    delta_z = z - l1\n",
        "\n",
        "    #distance between the first wrist joint and the end-effector in the xy-plane\n",
        "    D = math.sqrt(D_xy**2 + delta_z**2)\n",
        "\n",
        "    #angles required to form a right triangle with sides l2 and l3\n",
        "    alpha = math.acos((l2**2 + l3**2 - D**2) / (2 * l2 * l3))\n",
        "    beta = math.atan2(delta_z, D_xy)\n",
        "\n",
        "    #second joint angle (q2)\n",
        "    q2 = math.pi/2 - alpha - beta\n",
        "\n",
        "    #third joint angle (q3)\n",
        "    q3 = math.atan2(l3 * math.sin(alpha), l2 + l3 * math.cos(alpha))\n",
        "\n",
        "    return q1, q2, q3\n",
        "\n",
        "\n",
        "\n"
      ],
      "metadata": {
        "colab": {
          "base_uri": "https://localhost:8080/"
        },
        "id": "ygTdu4zHxUf9",
        "outputId": "3fe78273-0df8-4599-ddda-674544bd5b20"
      },
      "execution_count": null,
      "outputs": [
        {
          "output_type": "stream",
          "name": "stdout",
          "text": [
            "Joint Angles (q1, q2, q3): (0.0, 1.4487583923385514, 0.4424716810880932)\n"
          ]
        }
      ]
    },
    {
      "cell_type": "markdown",
      "source": [
        "Question 14\n",
        "\n",
        "python subroutine for the joint velocities using\n",
        "end-effector cartesian velocities."
      ],
      "metadata": {
        "id": "LREyrfGk9NJT"
      }
    },
    {
      "cell_type": "code",
      "source": [
        "import numpy as np\n",
        "\n",
        "def joint_velocities(Jacobian,end_effector_velocity):\n",
        "\n",
        "  Inerse_Jacobian = np.linalg.piv(Jacobian)\n",
        "\n",
        "  joint_velocities = np.dot(Inerse_Jacobian,end_effector_velocity)\n",
        "\n",
        "  return joint_velocities\n",
        "\n",
        "\n"
      ],
      "metadata": {
        "id": "3gs7tLbs5ECs"
      },
      "execution_count": null,
      "outputs": []
    },
    {
      "cell_type": "markdown",
      "source": [
        " Question (12)\n",
        "\n",
        " python subroutine to solve for the inverse position kinematics for\n",
        " the Stanford manipulator"
      ],
      "metadata": {
        "id": "EJ7AZ2jfAjKf"
      }
    },
    {
      "cell_type": "code",
      "source": [
        "import math\n",
        "import numpy as np\n",
        "\n",
        "def stanford_manipulator(x,y,z,r,d3,a2,s):\n",
        "# d3 = linear distance of prismatic joint\n",
        "  # r= resulatant of position of x and y\n",
        "\n",
        "  r = x**2 + y**2\n",
        "\n",
        "  s = z - d1\n",
        "  theta1 = np.pi + np.arctan(x/y)\n",
        "\n",
        "  theta2 = np.pi - np.arctan(r/s)\n",
        "\n",
        "  d3 = math.sqrt(r**2 + s**2) - a2\n",
        "\n",
        "  return theta1, theta2, d3\n",
        "\n",
        "  # example\n",
        "  x = 2\n",
        "  y = 3\n",
        "  z = 3\n",
        "  d1 = 2\n",
        "  a2 = 3\n",
        "\n",
        "  theta1, theta2, d3 = stanford_manipulator(x,y,z,r,d3,a2,s)\n",
        "\n",
        "  print(theta1, theta2, d3)\n",
        "\n",
        "\n"
      ],
      "metadata": {
        "id": "jTHrCDSp8f_Q"
      },
      "execution_count": null,
      "outputs": []
    },
    {
      "cell_type": "markdown",
      "source": [
        "Question (13)\n",
        "\n",
        "python subroutine for the inverse position kinematics for\n",
        "the SCARA manipulator"
      ],
      "metadata": {
        "id": "vS9g_bsPFdmb"
      }
    },
    {
      "cell_type": "code",
      "source": [
        "import numpy as np\n",
        "\n",
        "def inverse_kinematics_scara(x, y, z, l1, l2):\n",
        "\n",
        "  r = np.sqrt(x**2 + y**2)\n",
        "\n",
        "  theta1 = np.arctan2(y, x)\n",
        "\n",
        "  theta2 = np.arccos((r**2 + l1**2 - l2**2) / (2 * l1 * r))\n",
        "\n",
        "  theta3 = np.arctan2(z, r)\n",
        "\n",
        "  return theta1, theta2, theta3\n",
        "\n",
        "# Example\n",
        "l1 = 2\n",
        "l2 = 2\n",
        "x = 1.5\n",
        "y = 2\n",
        "z = 3\n",
        "\n",
        "theta1, theta2, theta3 = inverse_kinematics_scara(x, y, z, l1, l2)\n",
        "\n",
        "print(theta1, theta2, theta3)\n",
        "\n"
      ],
      "metadata": {
        "colab": {
          "base_uri": "https://localhost:8080/"
        },
        "id": "mIRoQqnXBdZo",
        "outputId": "4fcb329f-560d-4e73-e15e-38b023e39884"
      },
      "execution_count": null,
      "outputs": [
        {
          "output_type": "stream",
          "name": "stdout",
          "text": [
            "0.9272952180016122 0.895664793857865 0.8760580505981934\n"
          ]
        }
      ]
    },
    {
      "cell_type": "markdown",
      "source": [
        "Question 11\n"
      ],
      "metadata": {
        "id": "9zTpcRKgFN81"
      }
    },
    {
      "cell_type": "code",
      "source": [
        "from sympy import symbols, Eq, solve\n",
        "\n",
        "# Define symbolic variables\n",
        "q1, q2, q3 = symbols('q1 q2 q3')\n",
        "dq1, dq2, dq3 = symbols('dq1 dq2 dq3')\n",
        "ddq1, ddq2, ddq3 = symbols('ddq1 ddq2 ddq3')\n",
        "Tau1, Tau2, Tau3 = symbols('Tau1 Tau2 Tau3')\n",
        "\n",
        "# Define D(q) and V(q, dq) for your specific robot (replace the placeholders)\n",
        "# Example D(q) for a 3-DOF robot (a diagonal mass matrix)\n",
        "m1, m2, m3 = symbols('m1 m2 m3')  # Masses of the links\n",
        "D_q = [[m1, 0, 0],\n",
        "       [0, m2, 0],\n",
        "       [0, 0, m3]]\n",
        "\n",
        "# Example V(q, dq) for a 3-DOF robot (ignoring Coriolis and centrifugal effects)\n",
        "V_q_dq = [0, 0, 0]\n",
        "\n",
        "# Step 2: Calculate ddq\n",
        "eqn1 = Eq(D_q[0][0] * ddq1 + D_q[0][1] * ddq2 + D_q[0][2] * ddq3 + V_q_dq[0] - Tau1, 0)\n",
        "eqn2 = Eq(D_q[1][0] * ddq1 + D_q[1][1] * ddq2 + D_q[1][2] * ddq3 + V_q_dq[1] - Tau2, 0)\n",
        "eqn3 = Eq(D_q[2][0] * ddq1 + D_q[2][1] * ddq2 + D_q[2][2] * ddq3 + V_q_dq[2] - Tau3, 0)\n",
        "\n",
        "# Step 3: Solve for ddq\n",
        "solution = solve((eqn1, eqn2, eqn3), (ddq1, ddq2, ddq3))\n",
        "\n"
      ],
      "metadata": {
        "id": "geqHtF0WEQcU"
      },
      "execution_count": 3,
      "outputs": []
    }
  ]
}