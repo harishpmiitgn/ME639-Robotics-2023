{
  "nbformat": 4,
  "nbformat_minor": 0,
  "metadata": {
    "colab": {
      "provenance": []
    },
    "kernelspec": {
      "name": "python3",
      "display_name": "Python 3"
    },
    "language_info": {
      "name": "python"
    }
  },
  "cells": [
    {
      "cell_type": "markdown",
      "source": [
        "Question (1)\n",
        "\n",
        "python subroutine to solve for the inverse position kinematics for the Stanford manipulator"
      ],
      "metadata": {
        "id": "K5UaN80pvy2N"
      }
    },
    {
      "cell_type": "code",
      "execution_count": 2,
      "metadata": {
        "colab": {
          "base_uri": "https://localhost:8080/"
        },
        "id": "6tnipl6Ovak1",
        "outputId": "efccd0ac-bf83-4827-dab4-739fdad29dbf"
      },
      "outputs": [
        {
          "output_type": "stream",
          "name": "stdout",
          "text": [
            "Theta1: 4.124386376837122\n",
            "Theta2: 1.7975951748487824\n",
            "d3: 11.341664064126334\n"
          ]
        }
      ],
      "source": [
        "\n",
        "import math\n",
        "import numpy as np\n",
        "\n",
        "# Define the known parameters\n",
        "d1 = 1.0  # Replace with your actual d1 value\n",
        "a2 = 2.0  # Replace with your actual a2 value\n",
        "\n",
        "# Function for inverse kinematics\n",
        "def stanford_manipulator(x, y, z):\n",
        "    # r is already calculated in your code, so we don't need to calculate it again\n",
        "    r = x**2 + y**2\n",
        "\n",
        "    s = z - d1\n",
        "    theta1 = np.pi + np.arctan(x / y)\n",
        "\n",
        "    theta2 = np.pi - np.arctan(r / s)\n",
        "\n",
        "    d3 = math.sqrt(r**2 + s**2) - a2\n",
        "\n",
        "    return theta1, theta2, d3\n",
        "\n",
        "# Numerical values for end-effector position\n",
        "x = 3.0\n",
        "y = 2.0\n",
        "z = 4.0\n",
        "\n",
        "# Compute the joint variables\n",
        "theta1, theta2, d3 = stanford_manipulator(x, y, z)\n",
        "\n",
        "# Print the results\n",
        "print(\"Theta1:\", theta1)\n",
        "print(\"Theta2:\", theta2)\n",
        "print(\"d3:\", d3)\n",
        "\n"
      ]
    },
    {
      "cell_type": "markdown",
      "source": [
        "Question (2)\n",
        "\n",
        "python subroutine for the joint velocities using end-effector cartesian velocities."
      ],
      "metadata": {
        "id": "PZAJZIB2wEjZ"
      }
    },
    {
      "cell_type": "code",
      "source": [
        "import numpy as np\n",
        "\n",
        "def joint_velocities(Jacobian, end_effector_velocity):\n",
        "\n",
        "    Inverse_Jacobian = np.linalg.pinv(Jacobian)\n",
        "\n",
        "    joint_velocities = np.dot(Inverse_Jacobian, end_effector_velocity)\n",
        "\n",
        "    return joint_velocities\n",
        "\n",
        "# Example values for Jacobian and end-effector velocity\n",
        "Jacobian = np.array([[1, 0, 0], [0, 1, 0], [0, 0, 1]])\n",
        "\n",
        "end_effector_velocity = np.array([1, 2, 3])\n",
        "\n",
        "# Compute joint velocities\n",
        "resulting_joint_velocities = joint_velocities(Jacobian, end_effector_velocity)\n",
        "\n",
        "print(\"Joint Velocities:\", resulting_joint_velocities)\n",
        "\n",
        "\n"
      ],
      "metadata": {
        "colab": {
          "base_uri": "https://localhost:8080/"
        },
        "id": "bgoNositv-I0",
        "outputId": "fedd09cc-56cf-43c4-e701-25f466ba20cd"
      },
      "execution_count": 3,
      "outputs": [
        {
          "output_type": "stream",
          "name": "stdout",
          "text": [
            "Joint Velocities: [1. 2. 3.]\n"
          ]
        }
      ]
    },
    {
      "cell_type": "markdown",
      "source": [
        "Question(5)\n",
        "\n",
        "Python subroutine for the inverse kinematics of the spherical wrist"
      ],
      "metadata": {
        "id": "zgRGoskGwf6z"
      }
    },
    {
      "cell_type": "code",
      "source": [
        "import math\n",
        "\n",
        "def spherical_wrist_inverse_kinematics(x, y, z, link_lengths):\n",
        "\n",
        "    #link lengths\n",
        "    l1, l2, l3 = link_lengths\n",
        "\n",
        "    #first joint angle (q1)\n",
        "    q1 = math.atan2(y, x)\n",
        "\n",
        "    # distance from the base to the projection of the end-effector in the xy-plane\n",
        "    D_xy = math.sqrt(x**2 + y**2)\n",
        "\n",
        "    #height difference between the end-effector and the first wrist joint\n",
        "    delta_z = z - l1\n",
        "\n",
        "    #distance between the first wrist joint and the end-effector in the xy-plane\n",
        "    D = math.sqrt(D_xy**2 + delta_z**2)\n",
        "\n",
        "    #angles required to form a right triangle with sides l2 and l3\n",
        "    alpha = math.acos((l2**2 + l3**2 - D**2) / (2 * l2 * l3))\n",
        "    beta = math.atan2(delta_z, D_xy)\n",
        "\n",
        "    #second joint angle (q2)\n",
        "    q2 = math.pi/2 - alpha - beta\n",
        "\n",
        "    #third joint angle (q3)\n",
        "    q3 = math.atan2(l3 * math.sin(alpha), l2 + l3 * math.cos(alpha))\n",
        "\n",
        "    return q1, q2, q3\n"
      ],
      "metadata": {
        "id": "6L75sFpawINJ"
      },
      "execution_count": 4,
      "outputs": []
    },
    {
      "cell_type": "markdown",
      "source": [
        "question (6)a.\n",
        "\n",
        "Write a code incorporating dynamics of the 3 DOF robot. Further,\n",
        "simulate it with small initial conditions and small constant torque\n",
        "values to observe the dynamic behavior (important to keep the\n",
        "torques small, else the robot may be continuously accelerating).\n"
      ],
      "metadata": {
        "id": "4XQkosjn_CUL"
      }
    },
    {
      "cell_type": "code",
      "source": [
        "import numpy as np\n",
        "import matplotlib.pyplot as plt\n",
        "\n",
        "# Define robot parameters (mass, inertia, etc.)\n",
        "# Define your DH parameters and other dynamic properties here.\n",
        "\n",
        "# Simulation parameters\n",
        "dt = 0.01  # Time step\n",
        "num_steps = 1000  # Number of simulation steps\n",
        "small_torque = 0.1  # Small constant torque value\n",
        "\n",
        "q = np.zeros(3)  # Joint angles\n",
        "qd = np.zeros(3)  # Joint velocities\n",
        "\n",
        "\n",
        "joint_angle_data = []\n",
        "joint_torque_data = []\n",
        "\n",
        "# Simulation loop\n",
        "for step in range(num_steps):\n",
        "    # Calculate joint accelerations using the equations of motion\n",
        "    # Replace the following with your actual dynamics model\n",
        "    qdd = np.sin(q)  # A simplified dynamics model\n",
        "\n",
        "    # Numerical integration to update joint velocities and positions\n",
        "    qd = qd + qdd * dt\n",
        "    q = q + qd * dt\n",
        "\n",
        "    # Apply small torque values (use your control strategy here)\n",
        "    # For demonstration, a simple constant torque is applied to the first joint.\n",
        "    tau = np.array([small_torque, 0, 0])\n",
        "\n",
        "    # Store data for analysis\n",
        "    joint_angle_data.append(q.copy())\n",
        "    joint_torque_data.append(tau.copy())\n",
        "\n",
        "# Convert data lists to numpy arrays for easier analysis or plotting\n",
        "joint_angle_data = np.array(joint_angle_data)\n",
        "joint_torque_data = np.array(joint_torque_data)\n",
        "\n",
        "# Plot joint angles and torques\n",
        "time_steps = np.arange(num_steps) * dt\n",
        "plt.figure(figsize=(12, 6))\n",
        "for i in range(3):\n",
        "    plt.subplot(3, 1, i+1)\n",
        "    plt.plot(time_steps, joint_angle_data[:, i], label=f'Joint {i+1} Angle')\n",
        "    plt.ylabel(f'Joint {i+1} Angle (rad)')\n",
        "    plt.grid()\n",
        "plt.xlabel('Time (s)')\n",
        "plt.show()\n",
        "\n",
        "plt.figure(figsize=(12, 6))\n",
        "for i in range(3):\n",
        "    plt.subplot(3, 1, i+1)\n",
        "    plt.plot(time_steps, joint_torque_data[:, i], label=f'Joint {i+1} Torque')\n",
        "    plt.ylabel(f'Joint {i+1} Torque (Nm)')\n",
        "    plt.grid()\n",
        "plt.xlabel('Time (s)')\n",
        "plt.show()\n",
        "\n",
        "\n",
        "\n"
      ],
      "metadata": {
        "id": "HM8kC60Y8rH1"
      },
      "execution_count": 5,
      "outputs": []
    },
    {
      "cell_type": "markdown",
      "source": [
        "question(6)b.\n",
        "\n",
        "Code all four versions of Independent joint control (simple, slightly\n",
        "more sophisticated, feedforward, computed torque), and implement\n",
        "all four versions on the dynamics code above. Pick a relatively simple\n",
        "desired trajectory and some small stochastic disturbance (to be\n",
        "added to the code), and test and compare the performance of all\n",
        "four independent joint control methods. Document the results in\n",
        "terms of plots and comparisons."
      ],
      "metadata": {
        "id": "EYVfYXqy_RrW"
      }
    },
    {
      "cell_type": "code",
      "source": [
        "import numpy as np\n",
        "\n",
        "# Define robot parameters, simulation parameters, initial conditions, etc.\n",
        "\n",
        "# Define control gains for PD controllers (for methods 1 and 2)\n",
        "Kp = np.array([1.0, 1.0, 1.0])  # Proportional gains\n",
        "Kd = np.array([0.1, 0.1, 0.1])  # Derivative gains\n",
        "\n",
        "desired_trajectory = np.array([np.linspace(0, 2 * np.pi, num_steps)])\n",
        "\n",
        "disturbance = np.random.normal(0, 0.01, num_steps)\n",
        "\n",
        "joint_angles = []\n",
        "joint_torques = []\n",
        "joint_errors = []\n",
        "\n",
        "# Simulation loop\n",
        "for step in range(num_steps):\n",
        "\n",
        "    # Control methods\n",
        "    # Method 1: Simple Independent Joint Control\n",
        "    error = desired_trajectory[:, step] - q  # Error in joint angles\n",
        "    control_input = Kp * error\n",
        "\n",
        "    # Add disturbance to the control input\n",
        "    control_input += disturbance[step]\n",
        "\n",
        "    # Method 2: Slightly More Sophisticated Control (PD)\n",
        "    error = desired_trajectory[:, step] - q  # Error in joint angles\n",
        "\n",
        "    error_d = 0 - qd                     # Desired velocity is zero\n",
        "\n",
        "    control_input = Kp * error + Kd * error_d\n",
        "\n",
        "    # Add disturbance to the control input\n",
        "    control_input += disturbance[step]\n",
        "\n",
        "    # Method 3: Feedforward Control\n",
        "\n",
        "    # Calculate desired torques based on desired trajectory\n",
        "\n",
        "    desired_torques = your_feedforward_calculation(desired_trajectory[:, step], qd)\n",
        "\n",
        "    # Add disturbance to the desired torques\n",
        "    desired_torques += disturbance[step]\n",
        "\n",
        "    # Method 4: Computed Torque Control\n",
        "    # Calculate desired torques using computed torque control\n",
        "    desired_torques = your_computed_torque_calculation(desired_trajectory[:, step], q, qd)\n",
        "\n",
        "    # Add disturbance to the desired torques\n",
        "    desired_torques += disturbance[step]\n",
        "\n",
        "    # Apply control input to the robot and update the state\n",
        "\n",
        "    # Store data for analysis (joint angles, torques, errors)\n",
        "\n",
        "# End of simulation\n"
      ],
      "metadata": {
        "id": "tegHuxK--kms"
      },
      "execution_count": null,
      "outputs": []
    }
  ]
}