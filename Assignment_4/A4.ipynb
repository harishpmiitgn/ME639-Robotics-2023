{
 "cells": [
  {
   "cell_type": "markdown",
   "metadata": {},
   "source": [
    "# Assignment 4"
   ]
  },
  {
   "cell_type": "markdown",
   "metadata": {},
   "source": [
    "#### Write a code that uses symbolic computation and differentiation to derive the equations of motion for any robot given D(q) and V(q)."
   ]
  },
  {
   "cell_type": "code",
   "execution_count": 117,
   "metadata": {},
   "outputs": [
    {
     "name": "stdout",
     "output_type": "stream",
     "text": [
      "Equations of Motion:\n",
      "⎡                                          2        ⎤\n",
      "⎢q_ddot1⋅cos(q₁) - q_ddot2⋅sin(q₂) + q_dot1 ⋅sin(q₂)⎥\n",
      "⎢                                                   ⎥\n",
      "⎣-q_ddot1⋅sin(q₁) + q_ddot2⋅cos(q₂) + q_dot2⋅cos(q₁)⎦\n"
     ]
    }
   ],
   "source": [
    "import sympy as sp\n",
    "from sympy import init_printing\n",
    "\n",
    "init_printing(use_unicode=True)\n",
    "\n",
    "def advanced_derive_equations_of_motion(D_func, V_func, q, num_joints):\n",
    "    q_dot = sp.Matrix([sp.symbols(f'q_dot{i}') for i in range(1, num_joints + 1)])\n",
    "    q_ddot = sp.Matrix([sp.symbols(f'q_ddot{i}') for i in range(1, num_joints + 1)])\n",
    "\n",
    "    D = D_func(*q)\n",
    "    V = V_func(q, q_dot)\n",
    "\n",
    "    tau = D * q_ddot + V\n",
    "\n",
    "    return tau\n",
    "\n",
    "def D_example(*q):\n",
    "\n",
    "    return sp.Matrix([[sp.cos(q[0]), -sp.sin(q[1])],\n",
    "                      [-sp.sin(q[0]), sp.cos(q[1])]])\n",
    "\n",
    "def V_example(q, q_dot):\n",
    "    return sp.Matrix([q_dot[0]**2 * sp.sin(q[1]), q_dot[1] * sp.cos(q[0])])\n",
    "\n",
    "q = sp.Matrix([sp.symbols('q1'), sp.symbols('q2')])\n",
    "\n",
    "equations_of_motion = advanced_derive_equations_of_motion(D_example, V_example, q, 2)\n",
    "print(\"Equations of Motion:\")\n",
    "sp.pprint(equations_of_motion, use_unicode=True)\n"
   ]
  },
  {
   "cell_type": "markdown",
   "metadata": {},
   "source": [
    "## Question 12"
   ]
  },
  {
   "cell_type": "markdown",
   "metadata": {},
   "source": [
    "#### Write a python subroutine to solve for the inverse position kinematics for the Stanford manipulator using the discussion in Section 4.3.2 in the textbook. Plug in a few representative numerical values to compute the joint variables. Then confirm if you plug in these resulting joint variable answers with your earlier forward position kinematics code that you are indeed obtaining correct answers."
   ]
  },
  {
   "cell_type": "code",
   "execution_count": 118,
   "metadata": {},
   "outputs": [],
   "source": [
    "import numpy as np\n",
    "\n",
    "dh_params = [\n",
    "    {'theta': 0, 'd': 0, 'a': 0, 'alpha': 90},\n",
    "    {'theta': 0, 'd': 0, 'a': 1, 'alpha': 0}, \n",
    "    {'theta': 0, 'd': 1, 'a': 0, 'alpha': 90}, \n",
    "]\n",
    "\n",
    "def dh_transform(theta, d, a, alpha):\n",
    "    alpha_rad = np.deg2rad(alpha)\n",
    "    theta_rad = np.deg2rad(theta)\n",
    "    return np.array([\n",
    "        [np.cos(theta_rad), -np.sin(theta_rad)*np.cos(alpha_rad),  np.sin(theta_rad)*np.sin(alpha_rad), a*np.cos(theta_rad)],\n",
    "        [np.sin(theta_rad),  np.cos(theta_rad)*np.cos(alpha_rad), -np.cos(theta_rad)*np.sin(alpha_rad), a*np.sin(theta_rad)],\n",
    "        [0,                 np.sin(alpha_rad),                    np.cos(alpha_rad),                   d],\n",
    "        [0,                 0,                                    0,                                  1]\n",
    "    ])\n",
    "\n",
    "def get_transformation_matrices(dh_params):\n",
    "    T_matrices = []\n",
    "    for params in dh_params:\n",
    "        T_matrices.append(dh_transform(params['theta'], params['d'], params['a'], params['alpha']))\n",
    "    return T_matrices"
   ]
  },
  {
   "cell_type": "code",
   "execution_count": 119,
   "metadata": {},
   "outputs": [],
   "source": [
    "def compute_jacobian(dh_params):\n",
    "    J = np.zeros((6, 3))  \n",
    "\n",
    "    T_matrices = get_transformation_matrices(dh_params)\n",
    "\n",
    "    end_effector_pos = T_matrices[-1][:3, 3]\n",
    "\n",
    "    # Compute the Jacobian\n",
    "    for i in range(3):\n",
    "        if i < 2:\n",
    "            z_axis = T_matrices[i][:3, 2] if i > 0 else np.array([0, 0, 1])\n",
    "            joint_to_end_effector = end_effector_pos - T_matrices[i][:3, 3]\n",
    "            J[:3, i] = np.cross(z_axis, joint_to_end_effector)\n",
    "            J[3:, i] = z_axis\n",
    "        else: \n",
    "            z_axis = T_matrices[i][:3, 2]\n",
    "            J[:3, i] = z_axis\n",
    "            J[3:, i] = np.array([0, 0, 0])\n",
    "\n",
    "    return J"
   ]
  },
  {
   "cell_type": "code",
   "execution_count": 120,
   "metadata": {},
   "outputs": [
    {
     "name": "stdout",
     "output_type": "stream",
     "text": [
      "Desired End Effector Position: [1 1 1]\n",
      "Calculated Joint Variables: [ 0.78539816  1.17809725 -0.26794919]\n",
      "Calculated End Effector Position: [ 1.01884616 -0.70438676  0.04111176]\n"
     ]
    }
   ],
   "source": [
    "def inverse_kinematics_solver(end_effector_pos, dh_params):\n",
    "    joint_variables = np.zeros(3)\n",
    "    \n",
    "    link_length = 1\n",
    "\n",
    "    joint_variables[0] = np.arctan2(end_effector_pos[1], end_effector_pos[0])\n",
    "\n",
    "    r = np.sqrt(end_effector_pos[0]**2 + end_effector_pos[1]**2)\n",
    "    joint_variables[1] = np.arctan2(end_effector_pos[2], r - link_length)\n",
    "\n",
    "    joint_variables[2] = np.sqrt(np.sum(np.square(end_effector_pos))) - 2 * link_length\n",
    "\n",
    "    return joint_variables\n",
    "\n",
    "def forward_kinematics(joint_variables, dh_params):\n",
    "    T_matrices = get_transformation_matrices(dh_params)\n",
    "    T_final = np.eye(4)\n",
    "\n",
    "    for i in range(len(joint_variables)):\n",
    "        theta, d = joint_variables[i], dh_params[i]['d']\n",
    "        if i < 2:  \n",
    "            theta += joint_variables[i]\n",
    "        else:  \n",
    "            d += joint_variables[i]\n",
    "        T_final = np.dot(T_final, dh_transform(theta, d, dh_params[i]['a'], dh_params[i]['alpha']))\n",
    "\n",
    "    end_effector_pos = T_final[:3, 3]\n",
    "    return end_effector_pos\n",
    "\n",
    "def test():\n",
    "    desired_end_effector_pos = np.array([1, 1, 1])  \n",
    "    joint_variables = inverse_kinematics_solver(desired_end_effector_pos, dh_params)\n",
    "    calculated_end_effector_pos = forward_kinematics(joint_variables, dh_params)\n",
    "\n",
    "    print(\"Desired End Effector Position:\", desired_end_effector_pos)\n",
    "    print(\"Calculated Joint Variables:\", joint_variables)\n",
    "    print(\"Calculated End Effector Position:\", calculated_end_effector_pos)\n",
    "\n",
    "test()"
   ]
  },
  {
   "cell_type": "markdown",
   "metadata": {},
   "source": [
    "## Question 13"
   ]
  },
  {
   "cell_type": "markdown",
   "metadata": {},
   "source": [
    "#### Write a python subroutine to solve for the inverse position kinematics for the SCARA manipulator using the discussion in Example 4.4.2 in the textbook. Plug in a few representative numerical values to compute the joint variables. Then confirm if you plug in these resulting joint variable answers with your earlier forward position kinematics code that you are indeed obtaining correct answers.\n"
   ]
  },
  {
   "cell_type": "code",
   "execution_count": 121,
   "metadata": {},
   "outputs": [],
   "source": [
    "import numpy as np\n",
    "\n",
    "scara_dh_params = [\n",
    "    {'theta': 0, 'd': 0, 'a': 1, 'alpha': 0},\n",
    "    {'theta': 0, 'd': 0, 'a': 1, 'alpha': 0},\n",
    "    {'theta': 0, 'd': 1, 'a': 0, 'alpha': 0}\n",
    "]\n"
   ]
  },
  {
   "cell_type": "code",
   "execution_count": 122,
   "metadata": {},
   "outputs": [],
   "source": [
    "def scara_dh_transform(theta, d, a, alpha):\n",
    "    alpha_rad = np.deg2rad(alpha)\n",
    "    theta_rad = np.deg2rad(theta)\n",
    "    return np.array([\n",
    "        [np.cos(theta_rad), -np.sin(theta_rad), 0, a*np.cos(theta_rad)],\n",
    "        [np.sin(theta_rad),  np.cos(theta_rad), 0, a*np.sin(theta_rad)],\n",
    "        [0,                 0,                 1, d],\n",
    "        [0,                 0,                 0, 1]\n",
    "    ])\n"
   ]
  },
  {
   "cell_type": "code",
   "execution_count": 123,
   "metadata": {},
   "outputs": [],
   "source": [
    "def scara_inverse_kinematics(end_effector_pos, scara_dh_params):\n",
    "    joint_variables = np.zeros(3)\n",
    "    x, y, z = end_effector_pos\n",
    "\n",
    "    r = np.sqrt(x**2 + y**2)\n",
    "    a1, a2 = scara_dh_params[0]['a'], scara_dh_params[1]['a']\n",
    "\n",
    "    cos_angle = (r**2 + a1**2 - a2**2) / (2 * a1 * r)\n",
    "    \n",
    "    if not -1 <= cos_angle <= 1:\n",
    "        print(\"Position not reachable.\")\n",
    "        return [np.nan, np.nan, np.nan]\n",
    "\n",
    "    joint_variables[0] = np.arctan2(y, x) - np.arccos(cos_angle)\n",
    "\n",
    "    cos_angle_2 = (r**2 - a1**2 - a2**2) / (-2 * a1 * a2)\n",
    "    if not -1 <= cos_angle_2 <= 1:\n",
    "        print(\"Position not reachable.\")\n",
    "        return [np.nan, np.nan, np.nan]\n",
    "    joint_variables[1] = np.arccos(cos_angle_2)\n",
    "\n",
    "    joint_variables[2] = z - scara_dh_params[2]['d']\n",
    "\n",
    "    return joint_variables\n",
    "\n"
   ]
  },
  {
   "cell_type": "code",
   "execution_count": 124,
   "metadata": {},
   "outputs": [],
   "source": [
    "def scara_forward_kinematics(joint_variables, scara_dh_params):\n",
    "    T_final = np.eye(4)\n",
    "    for i, params in enumerate(scara_dh_params):\n",
    "        theta, d = joint_variables[i], params['d']\n",
    "        T_final = np.dot(T_final, scara_dh_transform(theta, d, params['a'], params['alpha']))\n",
    "    end_effector_pos = T_final[:3, 3]\n",
    "    return end_effector_pos\n"
   ]
  },
  {
   "cell_type": "code",
   "execution_count": 125,
   "metadata": {},
   "outputs": [
    {
     "name": "stdout",
     "output_type": "stream",
     "text": [
      "Desired End Effector Position: [1.  1.  0.5]\n",
      "Calculated Joint Variables: [ 2.22044605e-16  1.57079633e+00 -5.00000000e-01]\n",
      "Calculated End Effector Position: [1.99962422 0.02741213 1.        ]\n"
     ]
    }
   ],
   "source": [
    "def test_scara():\n",
    "    desired_end_effector_pos = np.array([1.0, 1.0, 0.5]) \n",
    "    joint_variables = scara_inverse_kinematics(desired_end_effector_pos, scara_dh_params)\n",
    "    calculated_end_effector_pos = scara_forward_kinematics(joint_variables, scara_dh_params)\n",
    "\n",
    "    print(\"Desired End Effector Position:\", desired_end_effector_pos)\n",
    "    print(\"Calculated Joint Variables:\", joint_variables)\n",
    "    print(\"Calculated End Effector Position:\", calculated_end_effector_pos)\n",
    "\n",
    "test_scara()\n"
   ]
  },
  {
   "cell_type": "markdown",
   "metadata": {},
   "source": [
    "## Question 14"
   ]
  },
  {
   "cell_type": "markdown",
   "metadata": {},
   "source": [
    "#### Write a python subroutine to calculate the joint velocities using end-effector cartesian velocities (using the discussion in Section 5.4 in the textbook). Heads up: You don’t need to write the part about calculating joint accelerations, however, you may need to create that in the future for your projects and future tasks."
   ]
  },
  {
   "attachments": {
    "image.png": {
     "image/png": "[encoded data removed]"
    }
   },
   "cell_type": "markdown",
   "metadata": {},
   "source": [
    "![image.png](attachment:image.png)"
   ]
  },
  {
   "cell_type": "code",
   "execution_count": 126,
   "metadata": {},
   "outputs": [
    {
     "name": "stdout",
     "output_type": "stream",
     "text": [
      "Joint Velocities: [ 1.58052434 -0.19550562 -1.08614232]\n"
     ]
    }
   ],
   "source": [
    "import numpy as np\n",
    "\n",
    "def calculate_joint_velocities(jacobian, end_effector_vel):\n",
    "    jacobian_pinv = np.linalg.pinv(jacobian)\n",
    "\n",
    "    joint_velocities = np.dot(jacobian_pinv, end_effector_vel)\n",
    "\n",
    "    return joint_velocities\n",
    "\n",
    "jacobian_example = np.array([\n",
    "    [0.5, 0, 0.2],\n",
    "    [0, 0.5, 0],\n",
    "    [0.2, 0, 0.5],\n",
    "    [0, 0, 0],\n",
    "    [0, 0, 0],\n",
    "    [1, 1, 1]\n",
    "])\n",
    "\n",
    "end_effector_vel_example = np.array([1.0, 0.5, 0.2, 0.0, 0.0, 0.0])\n",
    "\n",
    "joint_velocities = calculate_joint_velocities(jacobian_example, end_effector_vel_example)\n",
    "\n",
    "print(\"Joint Velocities:\", joint_velocities)\n"
   ]
  },
  {
   "cell_type": "markdown",
   "metadata": {},
   "source": [
    "## Question 17"
   ]
  },
  {
   "cell_type": "markdown",
   "metadata": {},
   "source": [
    "#### Write a python subroutine for the inverse kinematics of the spherical wrist using the discussion in Section 4.4."
   ]
  },
  {
   "cell_type": "code",
   "execution_count": 127,
   "metadata": {},
   "outputs": [
    {
     "name": "stdout",
     "output_type": "stream",
     "text": [
      "Joint angles: Theta1 = 180.0 degrees, Theta2 = 90.0 degrees, Theta3 = -90.0 degrees\n"
     ]
    }
   ],
   "source": [
    "import numpy as np\n",
    "\n",
    "def inverse_kinematics_spherical_wrist(R):\n",
    "    epsilon = 1e-6 \n",
    "\n",
    "    theta1, theta2, theta3 = 0, 0, 0\n",
    "\n",
    "    if abs(R[2, 0]) > 1 - epsilon:\n",
    "        theta1 = 0\n",
    "        theta2 = np.arccos(R[2, 0])\n",
    "        theta3 = np.arctan2(R[0, 1], R[0, 2])\n",
    "\n",
    "        if abs(theta2) < epsilon or abs(theta2 - np.pi) < epsilon:\n",
    "            print(\"Warning: The wrist is in or near a singularity where θ5 = 0 or π.\")\n",
    "    else:\n",
    "        theta2 = np.arccos(R[2, 0])\n",
    "        theta1 = np.arctan2(-R[2, 1], -R[2, 2])\n",
    "        theta3 = np.arctan2(-R[1, 0], R[0, 0])\n",
    "\n",
    "    return theta1, theta2, theta3\n",
    "\n",
    "R_example = np.array([\n",
    "    [0, -1, 0],\n",
    "    [1,  0, 0],\n",
    "    [0,  0, 1]\n",
    "])\n",
    "\n",
    "theta1, theta2, theta3 = inverse_kinematics_spherical_wrist(R_example)\n",
    "print(f\"Joint angles: Theta1 = {np.degrees(theta1)} degrees, Theta2 = {np.degrees(theta2)} degrees, Theta3 = {np.degrees(theta3)} degrees\")"
   ]
  },
  {
   "cell_type": "markdown",
   "metadata": {},
   "source": [
    "Example 1 : Rotation Matrix: 180 degrees around X-axis"
   ]
  },
  {
   "cell_type": "code",
   "execution_count": 128,
   "metadata": {},
   "outputs": [
    {
     "name": "stdout",
     "output_type": "stream",
     "text": [
      "Example 1 Joint Angles: [ 0. 90.  0.]\n"
     ]
    }
   ],
   "source": [
    "R_example_1 = np.array([\n",
    "    [1, 0, 0],\n",
    "    [0, -1, 0],\n",
    "    [0, 0, -1]\n",
    "])\n",
    "theta1, theta2, theta3 = inverse_kinematics_spherical_wrist(R_example_1)\n",
    "print(\"Example 1 Joint Angles:\", np.degrees([theta1, theta2, theta3]))"
   ]
  },
  {
   "cell_type": "markdown",
   "metadata": {},
   "source": [
    "Example 2 : Rotation Matrix: 45 degrees around Z-axis followed by 45 degrees around Y-axis"
   ]
  },
  {
   "cell_type": "code",
   "execution_count": 129,
   "metadata": {},
   "outputs": [
    {
     "name": "stdout",
     "output_type": "stream",
     "text": [
      "Example 2 Joint Angles: [-125.26438968   60.          -54.73561032]\n"
     ]
    }
   ],
   "source": [
    "R_example_2 = np.array([\n",
    "    [0.5, -np.sqrt(2)/2, 0.5],\n",
    "    [np.sqrt(2)/2, 0.5, -np.sqrt(2)/2],\n",
    "    [0.5, np.sqrt(2)/2, 0.5]\n",
    "])\n",
    "theta1, theta2, theta3 = inverse_kinematics_spherical_wrist(R_example_2)\n",
    "print(\"Example 2 Joint Angles:\", np.degrees([theta1, theta2, theta3]))"
   ]
  },
  {
   "cell_type": "markdown",
   "metadata": {},
   "source": [
    "Example 3 : 90 degrees around X-axis followed by -90 degrees around Z-axis"
   ]
  },
  {
   "cell_type": "code",
   "execution_count": 130,
   "metadata": {},
   "outputs": [
    {
     "name": "stdout",
     "output_type": "stream",
     "text": [
      "Example 3 Joint Angles: [  0.  90. -90.]\n"
     ]
    }
   ],
   "source": [
    "R_example_3 = np.array([\n",
    "    [0, 1, 0],\n",
    "    [1, 0, 0],\n",
    "    [0, 0, -1]\n",
    "])\n",
    "theta1, theta2, theta3 = inverse_kinematics_spherical_wrist(R_example_3)\n",
    "print(\"Example 3 Joint Angles:\", np.degrees([theta1, theta2, theta3]))"
   ]
  },
  {
   "cell_type": "markdown",
   "metadata": {},
   "source": [
    "## Question 18"
   ]
  },
  {
   "cell_type": "markdown",
   "metadata": {},
   "source": [
    "#### Determine the DH parameters for a 3D printer (PPP configuration), and use earlier written forward kinematics and Jacobian subroutines to compute the end-effector position and velocities for a few representative numerical values (of your choice)."
   ]
  },
  {
   "cell_type": "code",
   "execution_count": 131,
   "metadata": {},
   "outputs": [],
   "source": [
    "ppp_dh_params = [\n",
    "    {'theta': 0, 'd': 0, 'a': 0, 'alpha': 0}, \n",
    "    {'theta': 0, 'd': 0, 'a': 0, 'alpha': 0},  \n",
    "    {'theta': 0, 'd': 0, 'a': 0, 'alpha': 0}   \n",
    "]"
   ]
  },
  {
   "cell_type": "code",
   "execution_count": 132,
   "metadata": {},
   "outputs": [],
   "source": [
    "def ppp_forward_kinematics(joint_displacements):\n",
    "    return np.array(joint_displacements)"
   ]
  },
  {
   "cell_type": "code",
   "execution_count": 133,
   "metadata": {},
   "outputs": [],
   "source": [
    "def ppp_jacobian():\n",
    "    return np.eye(3)\n"
   ]
  },
  {
   "cell_type": "code",
   "execution_count": 134,
   "metadata": {},
   "outputs": [
    {
     "name": "stdout",
     "output_type": "stream",
     "text": [
      "End Effector Position: [1.  2.  1.5]\n",
      "End Effector Velocities: [0.5 0.5 0.5]\n"
     ]
    }
   ],
   "source": [
    "def test_ppp():\n",
    "    joint_displacements = [1.0, 2.0, 1.5] \n",
    "    end_effector_pos = ppp_forward_kinematics(joint_displacements)\n",
    "\n",
    "    joint_velocities = [0.5, 0.5, 0.5] \n",
    "    J = ppp_jacobian()\n",
    "    end_effector_velocities = np.dot(J, joint_velocities)\n",
    "\n",
    "    print(\"End Effector Position:\", end_effector_pos)\n",
    "    print(\"End Effector Velocities:\", end_effector_velocities)\n",
    "\n",
    "test_ppp()\n"
   ]
  }
 ],
 "metadata": {
  "kernelspec": {
   "display_name": "base",
   "language": "python",
   "name": "python3"
  },
  "language_info": {
   "codemirror_mode": {
    "name": "ipython",
    "version": 3
   },
   "file_extension": ".py",
   "mimetype": "text/x-python",
   "name": "python",
   "nbconvert_exporter": "python",
   "pygments_lexer": "ipython3",
   "version": "3.11.3"
  }
 },
 "nbformat": 4,
 "nbformat_minor": 2
}
