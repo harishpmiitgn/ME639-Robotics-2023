{
  "nbformat": 4,
  "nbformat_minor": 0,
  "metadata": {
    "colab": {
      "provenance": []
    },
    "kernelspec": {
      "name": "python3",
      "display_name": "Python 3"
    },
    "language_info": {
      "name": "python"
    }
  },
  "cells": [
    {
      "cell_type": "code",
      "source": [
        "#question-1\n",
        "import sympy as sp\n",
        "import numpy as np\n",
        "import matplotlib.pyplot as plt\n",
        "\n",
        "# Define symbolic variables\n",
        "theta1, theta2, theta3 = sp.symbols('theta1 theta2 theta3', real=True)\n",
        "\n",
        "# Define link lengths\n",
        "L1 = 1\n",
        "L2 = 1\n",
        "L3 = 1\n",
        "\n",
        "# Define circle radius\n",
        "R = 1.5\n",
        "\n",
        "# Forward kinematics equations\n",
        "x_manipulator = L1*sp.cos(theta1) + L2*sp.cos(theta1 + theta2) + L3*sp.cos(theta1 + theta2 + theta3)\n",
        "y_manipulator = L1*sp.sin(theta1) + L2*sp.sin(theta1 + theta2) + L3*sp.sin(theta1 + theta2 + theta3)\n",
        "\n",
        "# Circle parametric equations\n",
        "theta_circle = sp.symbols('theta', real=True)\n",
        "x_circle = R*sp.cos(theta_circle)\n",
        "y_circle = R*sp.sin(theta_circle)\n",
        "\n",
        "# Set up the inverse kinematics equations\n",
        "eq1 = sp.Eq(x_manipulator, x_circle)\n",
        "eq2 = sp.Eq(y_manipulator, y_circle)\n",
        "\n",
        "# Solve the inverse kinematics equations\n",
        "solution = sp.solve((eq1, eq2), (theta1, theta2, theta3))\n",
        "\n",
        "# Extracting the solutions\n",
        "theta1_solution = solution[0][0]\n",
        "theta2_solution = solution[0][1]\n",
        "theta3_solution = solution[0][2]\n",
        "\n",
        "# Generate a set of theta values to trace the circle\n",
        "theta_values = np.linspace(0, 2*np.pi, 100)\n",
        "\n",
        "# Evaluate joint angles for the circle tracing\n",
        "theta1_values = [theta1_solution.evalf(subs={theta_circle: t}) for t in theta_values]\n",
        "theta2_values = [theta2_solution.evalf(subs={theta_circle: t}) for t in theta_values]\n",
        "theta3_values = [theta3_solution.evalf(subs={theta_circle: t}) for t in theta_values]\n",
        "\n",
        "# Calculate manipulator end-effector positions for the traced circle\n",
        "x_values = [x_manipulator.evalf(subs={theta1: t1, theta2: t2, theta3: t3}) for t1, t2, t3 in zip(theta1_values, theta2_values, theta3_values)]\n",
        "y_values = [y_manipulator.evalf(subs={theta1: t1, theta2: t2, theta3: t3}) for t1, t2, t3 in zip(theta1_values, theta2_values, theta3_values)]\n",
        "\n",
        "# Plot the results\n",
        "plt.figure(figsize=(8, 8))\n",
        "plt.plot(x_values, y_values, label='Traced Circle')\n",
        "plt.title('3R Manipulator Inverse Kinematics - Tracing a Circle')\n",
        "plt.xlabel('X-axis')\n",
        "plt.ylabel('Y-axis')\n",
        "plt.legend()\n",
        "plt.grid(True)\n",
        "plt.show()\n"
      ],
      "metadata": {
        "id": "MGNRf1tn1oY9"
      },
      "execution_count": null,
      "outputs": []
    }
  ]
}